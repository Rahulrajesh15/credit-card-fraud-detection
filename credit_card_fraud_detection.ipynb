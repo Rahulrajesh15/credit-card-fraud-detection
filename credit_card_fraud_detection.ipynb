{
  "cells": [
    {
      "cell_type": "code",
      "execution_count": 2,
      "metadata": {
        "id": "43n1hOyhA-hz"
      },
      "outputs": [],
      "source": [
        "# importing necessary libraries\n",
        "import pandas as pd\n",
        "import numpy as np\n",
        "import matplotlib.pyplot as plt\n",
        "%matplotlib inline\n",
        "import seaborn as sns\n",
        "\n",
        "#Ignore seaborn warnings\n",
        "import warnings\n",
        "warnings.filterwarnings('ignore')"
      ]
    },
    {
      "cell_type": "code",
      "execution_count": 3,
      "metadata": {
        "id": "PJ-jxvKHQMFV",
        "colab": {
          "base_uri": "https://localhost:8080/"
        },
        "outputId": "d76813ac-66e5-4d91-d640-e77fbf116303"
      },
      "outputs": [
        {
          "output_type": "stream",
          "name": "stdout",
          "text": [
            "Drive already mounted at /content/drive; to attempt to forcibly remount, call drive.mount(\"/content/drive\", force_remount=True).\n"
          ]
        }
      ],
      "source": [
        "from google.colab import drive\n",
        "drive.mount('/content/drive')"
      ]
    },
    {
      "cell_type": "code",
      "execution_count": 4,
      "metadata": {
        "id": "ZlFTtIO6GvLW"
      },
      "outputs": [],
      "source": [
        "# Reading data into pandas dataframe\n",
        "data = pd.read_csv(\"/content/drive/MyDrive/dataset/creditcard.csv\")"
      ]
    },
    {
      "cell_type": "code",
      "execution_count": 5,
      "metadata": {
        "id": "MX3RXFiZHYEY",
        "colab": {
          "base_uri": "https://localhost:8080/",
          "height": 299
        },
        "outputId": "82b3ec8e-ee0c-4704-ad86-c395da102dd0"
      },
      "outputs": [
        {
          "output_type": "execute_result",
          "data": {
            "text/plain": [
              "   Time        V1        V2        V3        V4        V5        V6        V7  \\\n",
              "0   0.0 -1.359807 -0.072781  2.536347  1.378155 -0.338321  0.462388  0.239599   \n",
              "1   0.0  1.191857  0.266151  0.166480  0.448154  0.060018 -0.082361 -0.078803   \n",
              "2   1.0 -1.358354 -1.340163  1.773209  0.379780 -0.503198  1.800499  0.791461   \n",
              "3   1.0 -0.966272 -0.185226  1.792993 -0.863291 -0.010309  1.247203  0.237609   \n",
              "4   2.0 -1.158233  0.877737  1.548718  0.403034 -0.407193  0.095921  0.592941   \n",
              "\n",
              "         V8        V9  ...       V21       V22       V23       V24       V25  \\\n",
              "0  0.098698  0.363787  ... -0.018307  0.277838 -0.110474  0.066928  0.128539   \n",
              "1  0.085102 -0.255425  ... -0.225775 -0.638672  0.101288 -0.339846  0.167170   \n",
              "2  0.247676 -1.514654  ...  0.247998  0.771679  0.909412 -0.689281 -0.327642   \n",
              "3  0.377436 -1.387024  ... -0.108300  0.005274 -0.190321 -1.175575  0.647376   \n",
              "4 -0.270533  0.817739  ... -0.009431  0.798278 -0.137458  0.141267 -0.206010   \n",
              "\n",
              "        V26       V27       V28  Amount  Class  \n",
              "0 -0.189115  0.133558 -0.021053  149.62      0  \n",
              "1  0.125895 -0.008983  0.014724    2.69      0  \n",
              "2 -0.139097 -0.055353 -0.059752  378.66      0  \n",
              "3 -0.221929  0.062723  0.061458  123.50      0  \n",
              "4  0.502292  0.219422  0.215153   69.99      0  \n",
              "\n",
              "[5 rows x 31 columns]"
            ],
            "text/html": [
              "\n",
              "  <div id=\"df-8ea2a492-dda7-48f2-968e-16e896a79815\">\n",
              "    <div class=\"colab-df-container\">\n",
              "      <div>\n",
              "<style scoped>\n",
              "    .dataframe tbody tr th:only-of-type {\n",
              "        vertical-align: middle;\n",
              "    }\n",
              "\n",
              "    .dataframe tbody tr th {\n",
              "        vertical-align: top;\n",
              "    }\n",
              "\n",
              "    .dataframe thead th {\n",
              "        text-align: right;\n",
              "    }\n",
              "</style>\n",
              "<table border=\"1\" class=\"dataframe\">\n",
              "  <thead>\n",
              "    <tr style=\"text-align: right;\">\n",
              "      <th></th>\n",
              "      <th>Time</th>\n",
              "      <th>V1</th>\n",
              "      <th>V2</th>\n",
              "      <th>V3</th>\n",
              "      <th>V4</th>\n",
              "      <th>V5</th>\n",
              "      <th>V6</th>\n",
              "      <th>V7</th>\n",
              "      <th>V8</th>\n",
              "      <th>V9</th>\n",
              "      <th>...</th>\n",
              "      <th>V21</th>\n",
              "      <th>V22</th>\n",
              "      <th>V23</th>\n",
              "      <th>V24</th>\n",
              "      <th>V25</th>\n",
              "      <th>V26</th>\n",
              "      <th>V27</th>\n",
              "      <th>V28</th>\n",
              "      <th>Amount</th>\n",
              "      <th>Class</th>\n",
              "    </tr>\n",
              "  </thead>\n",
              "  <tbody>\n",
              "    <tr>\n",
              "      <th>0</th>\n",
              "      <td>0.0</td>\n",
              "      <td>-1.359807</td>\n",
              "      <td>-0.072781</td>\n",
              "      <td>2.536347</td>\n",
              "      <td>1.378155</td>\n",
              "      <td>-0.338321</td>\n",
              "      <td>0.462388</td>\n",
              "      <td>0.239599</td>\n",
              "      <td>0.098698</td>\n",
              "      <td>0.363787</td>\n",
              "      <td>...</td>\n",
              "      <td>-0.018307</td>\n",
              "      <td>0.277838</td>\n",
              "      <td>-0.110474</td>\n",
              "      <td>0.066928</td>\n",
              "      <td>0.128539</td>\n",
              "      <td>-0.189115</td>\n",
              "      <td>0.133558</td>\n",
              "      <td>-0.021053</td>\n",
              "      <td>149.62</td>\n",
              "      <td>0</td>\n",
              "    </tr>\n",
              "    <tr>\n",
              "      <th>1</th>\n",
              "      <td>0.0</td>\n",
              "      <td>1.191857</td>\n",
              "      <td>0.266151</td>\n",
              "      <td>0.166480</td>\n",
              "      <td>0.448154</td>\n",
              "      <td>0.060018</td>\n",
              "      <td>-0.082361</td>\n",
              "      <td>-0.078803</td>\n",
              "      <td>0.085102</td>\n",
              "      <td>-0.255425</td>\n",
              "      <td>...</td>\n",
              "      <td>-0.225775</td>\n",
              "      <td>-0.638672</td>\n",
              "      <td>0.101288</td>\n",
              "      <td>-0.339846</td>\n",
              "      <td>0.167170</td>\n",
              "      <td>0.125895</td>\n",
              "      <td>-0.008983</td>\n",
              "      <td>0.014724</td>\n",
              "      <td>2.69</td>\n",
              "      <td>0</td>\n",
              "    </tr>\n",
              "    <tr>\n",
              "      <th>2</th>\n",
              "      <td>1.0</td>\n",
              "      <td>-1.358354</td>\n",
              "      <td>-1.340163</td>\n",
              "      <td>1.773209</td>\n",
              "      <td>0.379780</td>\n",
              "      <td>-0.503198</td>\n",
              "      <td>1.800499</td>\n",
              "      <td>0.791461</td>\n",
              "      <td>0.247676</td>\n",
              "      <td>-1.514654</td>\n",
              "      <td>...</td>\n",
              "      <td>0.247998</td>\n",
              "      <td>0.771679</td>\n",
              "      <td>0.909412</td>\n",
              "      <td>-0.689281</td>\n",
              "      <td>-0.327642</td>\n",
              "      <td>-0.139097</td>\n",
              "      <td>-0.055353</td>\n",
              "      <td>-0.059752</td>\n",
              "      <td>378.66</td>\n",
              "      <td>0</td>\n",
              "    </tr>\n",
              "    <tr>\n",
              "      <th>3</th>\n",
              "      <td>1.0</td>\n",
              "      <td>-0.966272</td>\n",
              "      <td>-0.185226</td>\n",
              "      <td>1.792993</td>\n",
              "      <td>-0.863291</td>\n",
              "      <td>-0.010309</td>\n",
              "      <td>1.247203</td>\n",
              "      <td>0.237609</td>\n",
              "      <td>0.377436</td>\n",
              "      <td>-1.387024</td>\n",
              "      <td>...</td>\n",
              "      <td>-0.108300</td>\n",
              "      <td>0.005274</td>\n",
              "      <td>-0.190321</td>\n",
              "      <td>-1.175575</td>\n",
              "      <td>0.647376</td>\n",
              "      <td>-0.221929</td>\n",
              "      <td>0.062723</td>\n",
              "      <td>0.061458</td>\n",
              "      <td>123.50</td>\n",
              "      <td>0</td>\n",
              "    </tr>\n",
              "    <tr>\n",
              "      <th>4</th>\n",
              "      <td>2.0</td>\n",
              "      <td>-1.158233</td>\n",
              "      <td>0.877737</td>\n",
              "      <td>1.548718</td>\n",
              "      <td>0.403034</td>\n",
              "      <td>-0.407193</td>\n",
              "      <td>0.095921</td>\n",
              "      <td>0.592941</td>\n",
              "      <td>-0.270533</td>\n",
              "      <td>0.817739</td>\n",
              "      <td>...</td>\n",
              "      <td>-0.009431</td>\n",
              "      <td>0.798278</td>\n",
              "      <td>-0.137458</td>\n",
              "      <td>0.141267</td>\n",
              "      <td>-0.206010</td>\n",
              "      <td>0.502292</td>\n",
              "      <td>0.219422</td>\n",
              "      <td>0.215153</td>\n",
              "      <td>69.99</td>\n",
              "      <td>0</td>\n",
              "    </tr>\n",
              "  </tbody>\n",
              "</table>\n",
              "<p>5 rows × 31 columns</p>\n",
              "</div>\n",
              "      <button class=\"colab-df-convert\" onclick=\"convertToInteractive('df-8ea2a492-dda7-48f2-968e-16e896a79815')\"\n",
              "              title=\"Convert this dataframe to an interactive table.\"\n",
              "              style=\"display:none;\">\n",
              "        \n",
              "  <svg xmlns=\"http://www.w3.org/2000/svg\" height=\"24px\"viewBox=\"0 0 24 24\"\n",
              "       width=\"24px\">\n",
              "    <path d=\"M0 0h24v24H0V0z\" fill=\"none\"/>\n",
              "    <path d=\"M18.56 5.44l.94 2.06.94-2.06 2.06-.94-2.06-.94-.94-2.06-.94 2.06-2.06.94zm-11 1L8.5 8.5l.94-2.06 2.06-.94-2.06-.94L8.5 2.5l-.94 2.06-2.06.94zm10 10l.94 2.06.94-2.06 2.06-.94-2.06-.94-.94-2.06-.94 2.06-2.06.94z\"/><path d=\"M17.41 7.96l-1.37-1.37c-.4-.4-.92-.59-1.43-.59-.52 0-1.04.2-1.43.59L10.3 9.45l-7.72 7.72c-.78.78-.78 2.05 0 2.83L4 21.41c.39.39.9.59 1.41.59.51 0 1.02-.2 1.41-.59l7.78-7.78 2.81-2.81c.8-.78.8-2.07 0-2.86zM5.41 20L4 18.59l7.72-7.72 1.47 1.35L5.41 20z\"/>\n",
              "  </svg>\n",
              "      </button>\n",
              "      \n",
              "  <style>\n",
              "    .colab-df-container {\n",
              "      display:flex;\n",
              "      flex-wrap:wrap;\n",
              "      gap: 12px;\n",
              "    }\n",
              "\n",
              "    .colab-df-convert {\n",
              "      background-color: #E8F0FE;\n",
              "      border: none;\n",
              "      border-radius: 50%;\n",
              "      cursor: pointer;\n",
              "      display: none;\n",
              "      fill: #1967D2;\n",
              "      height: 32px;\n",
              "      padding: 0 0 0 0;\n",
              "      width: 32px;\n",
              "    }\n",
              "\n",
              "    .colab-df-convert:hover {\n",
              "      background-color: #E2EBFA;\n",
              "      box-shadow: 0px 1px 2px rgba(60, 64, 67, 0.3), 0px 1px 3px 1px rgba(60, 64, 67, 0.15);\n",
              "      fill: #174EA6;\n",
              "    }\n",
              "\n",
              "    [theme=dark] .colab-df-convert {\n",
              "      background-color: #3B4455;\n",
              "      fill: #D2E3FC;\n",
              "    }\n",
              "\n",
              "    [theme=dark] .colab-df-convert:hover {\n",
              "      background-color: #434B5C;\n",
              "      box-shadow: 0px 1px 3px 1px rgba(0, 0, 0, 0.15);\n",
              "      filter: drop-shadow(0px 1px 2px rgba(0, 0, 0, 0.3));\n",
              "      fill: #FFFFFF;\n",
              "    }\n",
              "  </style>\n",
              "\n",
              "      <script>\n",
              "        const buttonEl =\n",
              "          document.querySelector('#df-8ea2a492-dda7-48f2-968e-16e896a79815 button.colab-df-convert');\n",
              "        buttonEl.style.display =\n",
              "          google.colab.kernel.accessAllowed ? 'block' : 'none';\n",
              "\n",
              "        async function convertToInteractive(key) {\n",
              "          const element = document.querySelector('#df-8ea2a492-dda7-48f2-968e-16e896a79815');\n",
              "          const dataTable =\n",
              "            await google.colab.kernel.invokeFunction('convertToInteractive',\n",
              "                                                     [key], {});\n",
              "          if (!dataTable) return;\n",
              "\n",
              "          const docLinkHtml = 'Like what you see? Visit the ' +\n",
              "            '<a target=\"_blank\" href=https://colab.research.google.com/notebooks/data_table.ipynb>data table notebook</a>'\n",
              "            + ' to learn more about interactive tables.';\n",
              "          element.innerHTML = '';\n",
              "          dataTable['output_type'] = 'display_data';\n",
              "          await google.colab.output.renderOutput(dataTable, element);\n",
              "          const docLink = document.createElement('div');\n",
              "          docLink.innerHTML = docLinkHtml;\n",
              "          element.appendChild(docLink);\n",
              "        }\n",
              "      </script>\n",
              "    </div>\n",
              "  </div>\n",
              "  "
            ]
          },
          "metadata": {},
          "execution_count": 5
        }
      ],
      "source": [
        "data.head()"
      ]
    },
    {
      "cell_type": "code",
      "execution_count": 6,
      "metadata": {
        "id": "7uViMErf1xcK",
        "colab": {
          "base_uri": "https://localhost:8080/"
        },
        "outputId": "4c81df8d-4290-4829-bec0-c70b31046cf6"
      },
      "outputs": [
        {
          "output_type": "execute_result",
          "data": {
            "text/plain": [
              "(284807, 31)"
            ]
          },
          "metadata": {},
          "execution_count": 6
        }
      ],
      "source": [
        "data.shape"
      ]
    },
    {
      "cell_type": "code",
      "execution_count": 7,
      "metadata": {
        "id": "py3kZGHQ16Ix",
        "colab": {
          "base_uri": "https://localhost:8080/"
        },
        "outputId": "88787dd4-3388-4534-c384-185004736096"
      },
      "outputs": [
        {
          "output_type": "execute_result",
          "data": {
            "text/plain": [
              "0    284315\n",
              "1       492\n",
              "Name: Class, dtype: int64"
            ]
          },
          "metadata": {},
          "execution_count": 7
        }
      ],
      "source": [
        "data[\"Class\"].value_counts()"
      ]
    },
    {
      "cell_type": "markdown",
      "metadata": {
        "id": "tOgeYSdP_B0l"
      },
      "source": [
        "As we can see the data is unbalanced"
      ]
    },
    {
      "cell_type": "code",
      "execution_count": 8,
      "metadata": {
        "id": "C3utE_TiHZQV"
      },
      "outputs": [],
      "source": [
        "#Exploratory Data Analysis"
      ]
    },
    {
      "cell_type": "code",
      "execution_count": 9,
      "metadata": {
        "id": "V5z1s2k3H4gl",
        "colab": {
          "base_uri": "https://localhost:8080/"
        },
        "outputId": "34ea3dbc-1f3b-417a-9436-871c62fc0201"
      },
      "outputs": [
        {
          "output_type": "execute_result",
          "data": {
            "text/plain": [
              "Time      0\n",
              "V1        0\n",
              "V2        0\n",
              "V3        0\n",
              "V4        0\n",
              "V5        0\n",
              "V6        0\n",
              "V7        0\n",
              "V8        0\n",
              "V9        0\n",
              "V10       0\n",
              "V11       0\n",
              "V12       0\n",
              "V13       0\n",
              "V14       0\n",
              "V15       0\n",
              "V16       0\n",
              "V17       0\n",
              "V18       0\n",
              "V19       0\n",
              "V20       0\n",
              "V21       0\n",
              "V22       0\n",
              "V23       0\n",
              "V24       0\n",
              "V25       0\n",
              "V26       0\n",
              "V27       0\n",
              "V28       0\n",
              "Amount    0\n",
              "Class     0\n",
              "dtype: int64"
            ]
          },
          "metadata": {},
          "execution_count": 9
        }
      ],
      "source": [
        "# Checking for missing values\n",
        "data.isna().sum()"
      ]
    },
    {
      "cell_type": "code",
      "execution_count": 10,
      "metadata": {
        "id": "a-TRrIW0H_YV",
        "colab": {
          "base_uri": "https://localhost:8080/"
        },
        "outputId": "d38822d6-fe0d-4bcc-9fed-f06304e3d7b9"
      },
      "outputs": [
        {
          "output_type": "execute_result",
          "data": {
            "text/plain": [
              "Time      0\n",
              "V1        0\n",
              "V2        0\n",
              "V3        0\n",
              "V4        0\n",
              "V5        0\n",
              "V6        0\n",
              "V7        0\n",
              "V8        0\n",
              "V9        0\n",
              "V10       0\n",
              "V11       0\n",
              "V12       0\n",
              "V13       0\n",
              "V14       0\n",
              "V15       0\n",
              "V16       0\n",
              "V17       0\n",
              "V18       0\n",
              "V19       0\n",
              "V20       0\n",
              "V21       0\n",
              "V22       0\n",
              "V23       0\n",
              "V24       0\n",
              "V25       0\n",
              "V26       0\n",
              "V27       0\n",
              "V28       0\n",
              "Amount    0\n",
              "Class     0\n",
              "dtype: int64"
            ]
          },
          "metadata": {},
          "execution_count": 10
        }
      ],
      "source": [
        "# Since there is only single empty row we can drop it\n",
        "data.dropna(axis=0, inplace=True)\n",
        "data.isna().sum()"
      ]
    },
    {
      "cell_type": "code",
      "execution_count": 11,
      "metadata": {
        "id": "Cn3VwlI7_Qcx",
        "colab": {
          "base_uri": "https://localhost:8080/"
        },
        "outputId": "c72f1519-02e5-4bd3-d009-faea6b987cb5"
      },
      "outputs": [
        {
          "output_type": "execute_result",
          "data": {
            "text/plain": [
              "124592"
            ]
          },
          "metadata": {},
          "execution_count": 11
        }
      ],
      "source": [
        "data[\"Time\"].nunique()"
      ]
    },
    {
      "cell_type": "code",
      "execution_count": 11,
      "metadata": {
        "id": "iTuHyg-XIKGE"
      },
      "outputs": [],
      "source": []
    },
    {
      "cell_type": "code",
      "execution_count": 12,
      "metadata": {
        "id": "jPIzqVFD_wYB",
        "colab": {
          "base_uri": "https://localhost:8080/"
        },
        "outputId": "ad7433b1-3f70-460b-a222-bd7af0e31bea"
      },
      "outputs": [
        {
          "output_type": "stream",
          "name": "stdout",
          "text": [
            "<class 'pandas.core.frame.DataFrame'>\n",
            "Int64Index: 284807 entries, 0 to 284806\n",
            "Data columns (total 31 columns):\n",
            " #   Column  Non-Null Count   Dtype  \n",
            "---  ------  --------------   -----  \n",
            " 0   Time    284807 non-null  float64\n",
            " 1   V1      284807 non-null  float64\n",
            " 2   V2      284807 non-null  float64\n",
            " 3   V3      284807 non-null  float64\n",
            " 4   V4      284807 non-null  float64\n",
            " 5   V5      284807 non-null  float64\n",
            " 6   V6      284807 non-null  float64\n",
            " 7   V7      284807 non-null  float64\n",
            " 8   V8      284807 non-null  float64\n",
            " 9   V9      284807 non-null  float64\n",
            " 10  V10     284807 non-null  float64\n",
            " 11  V11     284807 non-null  float64\n",
            " 12  V12     284807 non-null  float64\n",
            " 13  V13     284807 non-null  float64\n",
            " 14  V14     284807 non-null  float64\n",
            " 15  V15     284807 non-null  float64\n",
            " 16  V16     284807 non-null  float64\n",
            " 17  V17     284807 non-null  float64\n",
            " 18  V18     284807 non-null  float64\n",
            " 19  V19     284807 non-null  float64\n",
            " 20  V20     284807 non-null  float64\n",
            " 21  V21     284807 non-null  float64\n",
            " 22  V22     284807 non-null  float64\n",
            " 23  V23     284807 non-null  float64\n",
            " 24  V24     284807 non-null  float64\n",
            " 25  V25     284807 non-null  float64\n",
            " 26  V26     284807 non-null  float64\n",
            " 27  V27     284807 non-null  float64\n",
            " 28  V28     284807 non-null  float64\n",
            " 29  Amount  284807 non-null  float64\n",
            " 30  Class   284807 non-null  int64  \n",
            "dtypes: float64(30), int64(1)\n",
            "memory usage: 69.5 MB\n"
          ]
        }
      ],
      "source": [
        "data.info()"
      ]
    },
    {
      "cell_type": "code",
      "execution_count": 13,
      "metadata": {
        "id": "BayzvgTUIpv8"
      },
      "outputs": [],
      "source": [
        "# No categorical columns, only numerical columns present in the data"
      ]
    },
    {
      "cell_type": "code",
      "execution_count": 13,
      "metadata": {
        "id": "Ux7VgPizEc0u"
      },
      "outputs": [],
      "source": []
    },
    {
      "cell_type": "code",
      "execution_count": 14,
      "metadata": {
        "id": "h_4Y99ZgI0iD"
      },
      "outputs": [],
      "source": [
        "# Lets visualize the data"
      ]
    },
    {
      "cell_type": "code",
      "execution_count": 15,
      "metadata": {
        "id": "94Pbj0ENI5is",
        "colab": {
          "base_uri": "https://localhost:8080/",
          "height": 295
        },
        "outputId": "c2fb4b46-1f8e-42b5-af65-451a5f68717d"
      },
      "outputs": [
        {
          "output_type": "display_data",
          "data": {
            "text/plain": [
              "<Figure size 432x288 with 1 Axes>"
            ],
            "image/png": "[encoded data removed]"
          },
          "metadata": {
            "needs_background": "light"
          }
        }
      ],
      "source": [
        "plt.title(\"Count of Postive and Negative class\")\n",
        "sns.countplot(x=data['Class'])\n",
        "plt.show()"
      ]
    },
    {
      "cell_type": "code",
      "execution_count": 15,
      "metadata": {
        "id": "w0h5YJjKEa9M"
      },
      "outputs": [],
      "source": []
    },
    {
      "cell_type": "code",
      "execution_count": 16,
      "metadata": {
        "id": "2FeJlgcVqZkE",
        "colab": {
          "base_uri": "https://localhost:8080/",
          "height": 282
        },
        "outputId": "0d5d90bc-c96c-4aeb-ada9-e35bbadaecec"
      },
      "outputs": [
        {
          "output_type": "stream",
          "name": "stdout",
          "text": [
            "Counter({0: 284315, 1: 492})\n"
          ]
        },
        {
          "output_type": "display_data",
          "data": {
            "text/plain": [
              "<Figure size 432x288 with 1 Axes>"
            ],
            "image/png": "[encoded data removed]"
          },
          "metadata": {
            "needs_background": "light"
          }
        }
      ],
      "source": [
        "# Data distribution of Both classes\n",
        "from collections import Counter\n",
        "y = data['Class']\n",
        "counter = Counter(y)\n",
        "print(counter)\n",
        "\n",
        "for label, _ in counter.items():\n",
        "\trow_ix = np.where(y == label)[0]\n",
        "\tplt.scatter(data.iloc[row_ix, 1], data.iloc[row_ix, 2], label=str(label))\n",
        "plt.legend()\n",
        "plt.show()"
      ]
    },
    {
      "cell_type": "code",
      "execution_count": 16,
      "metadata": {
        "id": "WMSo6pG4rD29"
      },
      "outputs": [],
      "source": []
    },
    {
      "cell_type": "code",
      "execution_count": 17,
      "metadata": {
        "id": "m6Y2D3rrJUdw",
        "colab": {
          "base_uri": "https://localhost:8080/"
        },
        "outputId": "622a3f7f-e191-4536-e601-1f4c0e335aef"
      },
      "outputs": [
        {
          "output_type": "stream",
          "name": "stdout",
          "text": [
            "Percentage of Postive samples in the data: 0.1727485630620034\n",
            "Percentage of Negative samples in the data: 99.82725143693798\n"
          ]
        }
      ],
      "source": [
        "# percentage of positive and negative samples in the data\n",
        "positive_percentage = data[data['Class'] == 1.0].shape[0] / data.shape[0] * 100\n",
        "negative_percentage = data[data['Class'] == 0.0].shape[0] / data.shape[0] * 100\n",
        "print(f\"Percentage of Postive samples in the data: {positive_percentage}\")\n",
        "print(f\"Percentage of Negative samples in the data: {negative_percentage}\")"
      ]
    },
    {
      "cell_type": "code",
      "execution_count": 18,
      "metadata": {
        "id": "bgbF8PSCJ-g3"
      },
      "outputs": [],
      "source": [
        "# It is clear that the data is imbalanced, almost 99% of the data consist of negative sample.\n",
        "# If we did'nt handle the imbalance in the data, it will lead to overfitting problem which will result in poor predictions for new data."
      ]
    },
    {
      "cell_type": "code",
      "execution_count": 19,
      "metadata": {
        "colab": {
          "base_uri": "https://localhost:8080/",
          "height": 393
        },
        "id": "wg_TNYXPKjZc",
        "outputId": "629a4997-c3b6-4e01-a545-e3898466a401"
      },
      "outputs": [
        {
          "output_type": "execute_result",
          "data": {
            "text/plain": [
              "                Time            V1            V2            V3            V4  \\\n",
              "count  284807.000000  2.848070e+05  2.848070e+05  2.848070e+05  2.848070e+05   \n",
              "mean    94813.859575  1.168375e-15  3.416908e-16 -1.379537e-15  2.074095e-15   \n",
              "std     47488.145955  1.958696e+00  1.651309e+00  1.516255e+00  1.415869e+00   \n",
              "min         0.000000 -5.640751e+01 -7.271573e+01 -4.832559e+01 -5.683171e+00   \n",
              "25%     54201.500000 -9.203734e-01 -5.985499e-01 -8.903648e-01 -8.486401e-01   \n",
              "50%     84692.000000  1.810880e-02  6.548556e-02  1.798463e-01 -1.984653e-02   \n",
              "75%    139320.500000  1.315642e+00  8.037239e-01  1.027196e+00  7.433413e-01   \n",
              "max    172792.000000  2.454930e+00  2.205773e+01  9.382558e+00  1.687534e+01   \n",
              "\n",
              "                 V5            V6            V7            V8            V9  \\\n",
              "count  2.848070e+05  2.848070e+05  2.848070e+05  2.848070e+05  2.848070e+05   \n",
              "mean   9.604066e-16  1.487313e-15 -5.556467e-16  1.213481e-16 -2.406331e-15   \n",
              "std    1.380247e+00  1.332271e+00  1.237094e+00  1.194353e+00  1.098632e+00   \n",
              "min   -1.137433e+02 -2.616051e+01 -4.355724e+01 -7.321672e+01 -1.343407e+01   \n",
              "25%   -6.915971e-01 -7.682956e-01 -5.540759e-01 -2.086297e-01 -6.430976e-01   \n",
              "50%   -5.433583e-02 -2.741871e-01  4.010308e-02  2.235804e-02 -5.142873e-02   \n",
              "75%    6.119264e-01  3.985649e-01  5.704361e-01  3.273459e-01  5.971390e-01   \n",
              "max    3.480167e+01  7.330163e+01  1.205895e+02  2.000721e+01  1.559499e+01   \n",
              "\n",
              "       ...           V21           V22           V23           V24  \\\n",
              "count  ...  2.848070e+05  2.848070e+05  2.848070e+05  2.848070e+05   \n",
              "mean   ...  1.654067e-16 -3.568593e-16  2.578648e-16  4.473266e-15   \n",
              "std    ...  7.345240e-01  7.257016e-01  6.244603e-01  6.056471e-01   \n",
              "min    ... -3.483038e+01 -1.093314e+01 -4.480774e+01 -2.836627e+00   \n",
              "25%    ... -2.283949e-01 -5.423504e-01 -1.618463e-01 -3.545861e-01   \n",
              "50%    ... -2.945017e-02  6.781943e-03 -1.119293e-02  4.097606e-02   \n",
              "75%    ...  1.863772e-01  5.285536e-01  1.476421e-01  4.395266e-01   \n",
              "max    ...  2.720284e+01  1.050309e+01  2.252841e+01  4.584549e+00   \n",
              "\n",
              "                V25           V26           V27           V28         Amount  \\\n",
              "count  2.848070e+05  2.848070e+05  2.848070e+05  2.848070e+05  284807.000000   \n",
              "mean   5.340915e-16  1.683437e-15 -3.660091e-16 -1.227390e-16      88.349619   \n",
              "std    5.212781e-01  4.822270e-01  4.036325e-01  3.300833e-01     250.120109   \n",
              "min   -1.029540e+01 -2.604551e+00 -2.256568e+01 -1.543008e+01       0.000000   \n",
              "25%   -3.171451e-01 -3.269839e-01 -7.083953e-02 -5.295979e-02       5.600000   \n",
              "50%    1.659350e-02 -5.213911e-02  1.342146e-03  1.124383e-02      22.000000   \n",
              "75%    3.507156e-01  2.409522e-01  9.104512e-02  7.827995e-02      77.165000   \n",
              "max    7.519589e+00  3.517346e+00  3.161220e+01  3.384781e+01   25691.160000   \n",
              "\n",
              "               Class  \n",
              "count  284807.000000  \n",
              "mean        0.001727  \n",
              "std         0.041527  \n",
              "min         0.000000  \n",
              "25%         0.000000  \n",
              "50%         0.000000  \n",
              "75%         0.000000  \n",
              "max         1.000000  \n",
              "\n",
              "[8 rows x 31 columns]"
            ],
            "text/html": [
              "\n",
              "  <div id=\"df-f22f60df-e54a-471c-9c81-69eec8361ff9\">\n",
              "    <div class=\"colab-df-container\">\n",
              "      <div>\n",
              "<style scoped>\n",
              "    .dataframe tbody tr th:only-of-type {\n",
              "        vertical-align: middle;\n",
              "    }\n",
              "\n",
              "    .dataframe tbody tr th {\n",
              "        vertical-align: top;\n",
              "    }\n",
              "\n",
              "    .dataframe thead th {\n",
              "        text-align: right;\n",
              "    }\n",
              "</style>\n",
              "<table border=\"1\" class=\"dataframe\">\n",
              "  <thead>\n",
              "    <tr style=\"text-align: right;\">\n",
              "      <th></th>\n",
              "      <th>Time</th>\n",
              "      <th>V1</th>\n",
              "      <th>V2</th>\n",
              "      <th>V3</th>\n",
              "      <th>V4</th>\n",
              "      <th>V5</th>\n",
              "      <th>V6</th>\n",
              "      <th>V7</th>\n",
              "      <th>V8</th>\n",
              "      <th>V9</th>\n",
              "      <th>...</th>\n",
              "      <th>V21</th>\n",
              "      <th>V22</th>\n",
              "      <th>V23</th>\n",
              "      <th>V24</th>\n",
              "      <th>V25</th>\n",
              "      <th>V26</th>\n",
              "      <th>V27</th>\n",
              "      <th>V28</th>\n",
              "      <th>Amount</th>\n",
              "      <th>Class</th>\n",
              "    </tr>\n",
              "  </thead>\n",
              "  <tbody>\n",
              "    <tr>\n",
              "      <th>count</th>\n",
              "      <td>284807.000000</td>\n",
              "      <td>2.848070e+05</td>\n",
              "      <td>2.848070e+05</td>\n",
              "      <td>2.848070e+05</td>\n",
              "      <td>2.848070e+05</td>\n",
              "      <td>2.848070e+05</td>\n",
              "      <td>2.848070e+05</td>\n",
              "      <td>2.848070e+05</td>\n",
              "      <td>2.848070e+05</td>\n",
              "      <td>2.848070e+05</td>\n",
              "      <td>...</td>\n",
              "      <td>2.848070e+05</td>\n",
              "      <td>2.848070e+05</td>\n",
              "      <td>2.848070e+05</td>\n",
              "      <td>2.848070e+05</td>\n",
              "      <td>2.848070e+05</td>\n",
              "      <td>2.848070e+05</td>\n",
              "      <td>2.848070e+05</td>\n",
              "      <td>2.848070e+05</td>\n",
              "      <td>284807.000000</td>\n",
              "      <td>284807.000000</td>\n",
              "    </tr>\n",
              "    <tr>\n",
              "      <th>mean</th>\n",
              "      <td>94813.859575</td>\n",
              "      <td>1.168375e-15</td>\n",
              "      <td>3.416908e-16</td>\n",
              "      <td>-1.379537e-15</td>\n",
              "      <td>2.074095e-15</td>\n",
              "      <td>9.604066e-16</td>\n",
              "      <td>1.487313e-15</td>\n",
              "      <td>-5.556467e-16</td>\n",
              "      <td>1.213481e-16</td>\n",
              "      <td>-2.406331e-15</td>\n",
              "      <td>...</td>\n",
              "      <td>1.654067e-16</td>\n",
              "      <td>-3.568593e-16</td>\n",
              "      <td>2.578648e-16</td>\n",
              "      <td>4.473266e-15</td>\n",
              "      <td>5.340915e-16</td>\n",
              "      <td>1.683437e-15</td>\n",
              "      <td>-3.660091e-16</td>\n",
              "      <td>-1.227390e-16</td>\n",
              "      <td>88.349619</td>\n",
              "      <td>0.001727</td>\n",
              "    </tr>\n",
              "    <tr>\n",
              "      <th>std</th>\n",
              "      <td>47488.145955</td>\n",
              "      <td>1.958696e+00</td>\n",
              "      <td>1.651309e+00</td>\n",
              "      <td>1.516255e+00</td>\n",
              "      <td>1.415869e+00</td>\n",
              "      <td>1.380247e+00</td>\n",
              "      <td>1.332271e+00</td>\n",
              "      <td>1.237094e+00</td>\n",
              "      <td>1.194353e+00</td>\n",
              "      <td>1.098632e+00</td>\n",
              "      <td>...</td>\n",
              "      <td>7.345240e-01</td>\n",
              "      <td>7.257016e-01</td>\n",
              "      <td>6.244603e-01</td>\n",
              "      <td>6.056471e-01</td>\n",
              "      <td>5.212781e-01</td>\n",
              "      <td>4.822270e-01</td>\n",
              "      <td>4.036325e-01</td>\n",
              "      <td>3.300833e-01</td>\n",
              "      <td>250.120109</td>\n",
              "      <td>0.041527</td>\n",
              "    </tr>\n",
              "    <tr>\n",
              "      <th>min</th>\n",
              "      <td>0.000000</td>\n",
              "      <td>-5.640751e+01</td>\n",
              "      <td>-7.271573e+01</td>\n",
              "      <td>-4.832559e+01</td>\n",
              "      <td>-5.683171e+00</td>\n",
              "      <td>-1.137433e+02</td>\n",
              "      <td>-2.616051e+01</td>\n",
              "      <td>-4.355724e+01</td>\n",
              "      <td>-7.321672e+01</td>\n",
              "      <td>-1.343407e+01</td>\n",
              "      <td>...</td>\n",
              "      <td>-3.483038e+01</td>\n",
              "      <td>-1.093314e+01</td>\n",
              "      <td>-4.480774e+01</td>\n",
              "      <td>-2.836627e+00</td>\n",
              "      <td>-1.029540e+01</td>\n",
              "      <td>-2.604551e+00</td>\n",
              "      <td>-2.256568e+01</td>\n",
              "      <td>-1.543008e+01</td>\n",
              "      <td>0.000000</td>\n",
              "      <td>0.000000</td>\n",
              "    </tr>\n",
              "    <tr>\n",
              "      <th>25%</th>\n",
              "      <td>54201.500000</td>\n",
              "      <td>-9.203734e-01</td>\n",
              "      <td>-5.985499e-01</td>\n",
              "      <td>-8.903648e-01</td>\n",
              "      <td>-8.486401e-01</td>\n",
              "      <td>-6.915971e-01</td>\n",
              "      <td>-7.682956e-01</td>\n",
              "      <td>-5.540759e-01</td>\n",
              "      <td>-2.086297e-01</td>\n",
              "      <td>-6.430976e-01</td>\n",
              "      <td>...</td>\n",
              "      <td>-2.283949e-01</td>\n",
              "      <td>-5.423504e-01</td>\n",
              "      <td>-1.618463e-01</td>\n",
              "      <td>-3.545861e-01</td>\n",
              "      <td>-3.171451e-01</td>\n",
              "      <td>-3.269839e-01</td>\n",
              "      <td>-7.083953e-02</td>\n",
              "      <td>-5.295979e-02</td>\n",
              "      <td>5.600000</td>\n",
              "      <td>0.000000</td>\n",
              "    </tr>\n",
              "    <tr>\n",
              "      <th>50%</th>\n",
              "      <td>84692.000000</td>\n",
              "      <td>1.810880e-02</td>\n",
              "      <td>6.548556e-02</td>\n",
              "      <td>1.798463e-01</td>\n",
              "      <td>-1.984653e-02</td>\n",
              "      <td>-5.433583e-02</td>\n",
              "      <td>-2.741871e-01</td>\n",
              "      <td>4.010308e-02</td>\n",
              "      <td>2.235804e-02</td>\n",
              "      <td>-5.142873e-02</td>\n",
              "      <td>...</td>\n",
              "      <td>-2.945017e-02</td>\n",
              "      <td>6.781943e-03</td>\n",
              "      <td>-1.119293e-02</td>\n",
              "      <td>4.097606e-02</td>\n",
              "      <td>1.659350e-02</td>\n",
              "      <td>-5.213911e-02</td>\n",
              "      <td>1.342146e-03</td>\n",
              "      <td>1.124383e-02</td>\n",
              "      <td>22.000000</td>\n",
              "      <td>0.000000</td>\n",
              "    </tr>\n",
              "    <tr>\n",
              "      <th>75%</th>\n",
              "      <td>139320.500000</td>\n",
              "      <td>1.315642e+00</td>\n",
              "      <td>8.037239e-01</td>\n",
              "      <td>1.027196e+00</td>\n",
              "      <td>7.433413e-01</td>\n",
              "      <td>6.119264e-01</td>\n",
              "      <td>3.985649e-01</td>\n",
              "      <td>5.704361e-01</td>\n",
              "      <td>3.273459e-01</td>\n",
              "      <td>5.971390e-01</td>\n",
              "      <td>...</td>\n",
              "      <td>1.863772e-01</td>\n",
              "      <td>5.285536e-01</td>\n",
              "      <td>1.476421e-01</td>\n",
              "      <td>4.395266e-01</td>\n",
              "      <td>3.507156e-01</td>\n",
              "      <td>2.409522e-01</td>\n",
              "      <td>9.104512e-02</td>\n",
              "      <td>7.827995e-02</td>\n",
              "      <td>77.165000</td>\n",
              "      <td>0.000000</td>\n",
              "    </tr>\n",
              "    <tr>\n",
              "      <th>max</th>\n",
              "      <td>172792.000000</td>\n",
              "      <td>2.454930e+00</td>\n",
              "      <td>2.205773e+01</td>\n",
              "      <td>9.382558e+00</td>\n",
              "      <td>1.687534e+01</td>\n",
              "      <td>3.480167e+01</td>\n",
              "      <td>7.330163e+01</td>\n",
              "      <td>1.205895e+02</td>\n",
              "      <td>2.000721e+01</td>\n",
              "      <td>1.559499e+01</td>\n",
              "      <td>...</td>\n",
              "      <td>2.720284e+01</td>\n",
              "      <td>1.050309e+01</td>\n",
              "      <td>2.252841e+01</td>\n",
              "      <td>4.584549e+00</td>\n",
              "      <td>7.519589e+00</td>\n",
              "      <td>3.517346e+00</td>\n",
              "      <td>3.161220e+01</td>\n",
              "      <td>3.384781e+01</td>\n",
              "      <td>25691.160000</td>\n",
              "      <td>1.000000</td>\n",
              "    </tr>\n",
              "  </tbody>\n",
              "</table>\n",
              "<p>8 rows × 31 columns</p>\n",
              "</div>\n",
              "      <button class=\"colab-df-convert\" onclick=\"convertToInteractive('df-f22f60df-e54a-471c-9c81-69eec8361ff9')\"\n",
              "              title=\"Convert this dataframe to an interactive table.\"\n",
              "              style=\"display:none;\">\n",
              "        \n",
              "  <svg xmlns=\"http://www.w3.org/2000/svg\" height=\"24px\"viewBox=\"0 0 24 24\"\n",
              "       width=\"24px\">\n",
              "    <path d=\"M0 0h24v24H0V0z\" fill=\"none\"/>\n",
              "    <path d=\"M18.56 5.44l.94 2.06.94-2.06 2.06-.94-2.06-.94-.94-2.06-.94 2.06-2.06.94zm-11 1L8.5 8.5l.94-2.06 2.06-.94-2.06-.94L8.5 2.5l-.94 2.06-2.06.94zm10 10l.94 2.06.94-2.06 2.06-.94-2.06-.94-.94-2.06-.94 2.06-2.06.94z\"/><path d=\"M17.41 7.96l-1.37-1.37c-.4-.4-.92-.59-1.43-.59-.52 0-1.04.2-1.43.59L10.3 9.45l-7.72 7.72c-.78.78-.78 2.05 0 2.83L4 21.41c.39.39.9.59 1.41.59.51 0 1.02-.2 1.41-.59l7.78-7.78 2.81-2.81c.8-.78.8-2.07 0-2.86zM5.41 20L4 18.59l7.72-7.72 1.47 1.35L5.41 20z\"/>\n",
              "  </svg>\n",
              "      </button>\n",
              "      \n",
              "  <style>\n",
              "    .colab-df-container {\n",
              "      display:flex;\n",
              "      flex-wrap:wrap;\n",
              "      gap: 12px;\n",
              "    }\n",
              "\n",
              "    .colab-df-convert {\n",
              "      background-color: #E8F0FE;\n",
              "      border: none;\n",
              "      border-radius: 50%;\n",
              "      cursor: pointer;\n",
              "      display: none;\n",
              "      fill: #1967D2;\n",
              "      height: 32px;\n",
              "      padding: 0 0 0 0;\n",
              "      width: 32px;\n",
              "    }\n",
              "\n",
              "    .colab-df-convert:hover {\n",
              "      background-color: #E2EBFA;\n",
              "      box-shadow: 0px 1px 2px rgba(60, 64, 67, 0.3), 0px 1px 3px 1px rgba(60, 64, 67, 0.15);\n",
              "      fill: #174EA6;\n",
              "    }\n",
              "\n",
              "    [theme=dark] .colab-df-convert {\n",
              "      background-color: #3B4455;\n",
              "      fill: #D2E3FC;\n",
              "    }\n",
              "\n",
              "    [theme=dark] .colab-df-convert:hover {\n",
              "      background-color: #434B5C;\n",
              "      box-shadow: 0px 1px 3px 1px rgba(0, 0, 0, 0.15);\n",
              "      filter: drop-shadow(0px 1px 2px rgba(0, 0, 0, 0.3));\n",
              "      fill: #FFFFFF;\n",
              "    }\n",
              "  </style>\n",
              "\n",
              "      <script>\n",
              "        const buttonEl =\n",
              "          document.querySelector('#df-f22f60df-e54a-471c-9c81-69eec8361ff9 button.colab-df-convert');\n",
              "        buttonEl.style.display =\n",
              "          google.colab.kernel.accessAllowed ? 'block' : 'none';\n",
              "\n",
              "        async function convertToInteractive(key) {\n",
              "          const element = document.querySelector('#df-f22f60df-e54a-471c-9c81-69eec8361ff9');\n",
              "          const dataTable =\n",
              "            await google.colab.kernel.invokeFunction('convertToInteractive',\n",
              "                                                     [key], {});\n",
              "          if (!dataTable) return;\n",
              "\n",
              "          const docLinkHtml = 'Like what you see? Visit the ' +\n",
              "            '<a target=\"_blank\" href=https://colab.research.google.com/notebooks/data_table.ipynb>data table notebook</a>'\n",
              "            + ' to learn more about interactive tables.';\n",
              "          element.innerHTML = '';\n",
              "          dataTable['output_type'] = 'display_data';\n",
              "          await google.colab.output.renderOutput(dataTable, element);\n",
              "          const docLink = document.createElement('div');\n",
              "          docLink.innerHTML = docLinkHtml;\n",
              "          element.appendChild(docLink);\n",
              "        }\n",
              "      </script>\n",
              "    </div>\n",
              "  </div>\n",
              "  "
            ]
          },
          "metadata": {},
          "execution_count": 19
        }
      ],
      "source": [
        "data.describe()"
      ]
    },
    {
      "cell_type": "code",
      "execution_count": 20,
      "metadata": {
        "id": "E-W9CDURKnID"
      },
      "outputs": [],
      "source": [
        "# Visualizing the relations of Time, Amount and Class"
      ]
    },
    {
      "cell_type": "code",
      "execution_count": 21,
      "metadata": {
        "id": "FI97IqBkKsyS",
        "colab": {
          "base_uri": "https://localhost:8080/",
          "height": 743
        },
        "outputId": "6a202510-5e48-4ea4-b9c8-68fa2f10b943"
      },
      "outputs": [
        {
          "output_type": "execute_result",
          "data": {
            "text/plain": [
              "<seaborn.axisgrid.PairGrid at 0x7fabd0481d30>"
            ]
          },
          "metadata": {},
          "execution_count": 21
        },
        {
          "output_type": "display_data",
          "data": {
            "text/plain": [
              "<Figure size 762.375x720 with 6 Axes>"
            ],
            "image/png": "[encoded data removed]"
          },
          "metadata": {
            "needs_background": "light"
          }
        }
      ],
      "source": [
        "df = data[['Time', 'Amount', 'Class']]\n",
        "sns.pairplot(data=df, hue=\"Class\", size=5)"
      ]
    },
    {
      "cell_type": "code",
      "execution_count": 22,
      "metadata": {
        "id": "U78FEpH9KyKb",
        "colab": {
          "base_uri": "https://localhost:8080/",
          "height": 369
        },
        "outputId": "a778c18d-c8b9-4589-cefc-2b90a4f82450"
      },
      "outputs": [
        {
          "output_type": "display_data",
          "data": {
            "text/plain": [
              "<Figure size 360x360 with 1 Axes>"
            ],
            "image/png": "[encoded data removed]"
          },
          "metadata": {
            "needs_background": "light"
          }
        }
      ],
      "source": [
        "# Relation between Fraudulent transaction and time\n",
        "sns.FacetGrid(df[df['Class'] == 1], hue=\"Class\", size=5).map(sns.distplot, \"Time\")\n",
        "plt.show()"
      ]
    },
    {
      "cell_type": "code",
      "execution_count": 23,
      "metadata": {
        "id": "kCxAJnQMPpZe"
      },
      "outputs": [],
      "source": [
        "# from this plot it is clear that, fraudulent transactions happens constantly with time, which means fraudulent transaction happens on a regular interval."
      ]
    },
    {
      "cell_type": "code",
      "execution_count": 24,
      "metadata": {
        "id": "Z_CPrApKSbZi",
        "colab": {
          "base_uri": "https://localhost:8080/",
          "height": 369
        },
        "outputId": "44876b4f-f9d2-4893-c99e-7cfba8093dde"
      },
      "outputs": [
        {
          "output_type": "display_data",
          "data": {
            "text/plain": [
              "<Figure size 360x360 with 1 Axes>"
            ],
            "image/png": "[encoded data removed]"
          },
          "metadata": {
            "needs_background": "light"
          }
        }
      ],
      "source": [
        "# Relation between legitimate transaction and time\n",
        "sns.FacetGrid(df[df['Class'] == 0], hue=\"Class\", size=5).map(sns.distplot, \"Time\")\n",
        "plt.show()"
      ]
    },
    {
      "cell_type": "code",
      "execution_count": 25,
      "metadata": {
        "id": "uO8NoprdSium",
        "colab": {
          "base_uri": "https://localhost:8080/",
          "height": 404
        },
        "outputId": "2001cf02-d701-4e40-b481-bb8cc21484cd"
      },
      "outputs": [
        {
          "output_type": "display_data",
          "data": {
            "text/plain": [
              "<Figure size 864x432 with 2 Axes>"
            ],
            "image/png": "[encoded data removed]"
          },
          "metadata": {
            "needs_background": "light"
          }
        }
      ],
      "source": [
        "plt.figure(figsize=(12, 6))\n",
        "plt.subplot(1, 2, 1)\n",
        "plt.title(\"Plot for Class vs Time\")\n",
        "sns.boxplot(data=df, x=\"Class\", y=\"Time\")\n",
        "plt.subplot(1, 2, 2)\n",
        "plt.title(\"Plot for Class vs Amount\")\n",
        "sns.boxplot(data=df, x=\"Class\", y=\"Amount\")\n",
        "plt.show()"
      ]
    },
    {
      "cell_type": "code",
      "execution_count": 26,
      "metadata": {
        "id": "BFiu6pLeUzU-",
        "colab": {
          "base_uri": "https://localhost:8080/",
          "height": 442
        },
        "outputId": "8fdd685a-5a45-4440-ba34-2ef9b0ee5b92"
      },
      "outputs": [
        {
          "output_type": "display_data",
          "data": {
            "text/plain": [
              "<Figure size 720x504 with 1 Axes>"
            ],
            "image/png": "[encoded data removed]"
          },
          "metadata": {
            "needs_background": "light"
          }
        }
      ],
      "source": [
        "# Amount is not well distributed for both class, so we can transform the amount column\n",
        "# Plot for Class vs Amount after log transformation\n",
        "amount_log = np.log10(data['Amount'].clip(lower=1.0))\n",
        "plt.figure(figsize=(10, 7))\n",
        "sns.boxplot(data=df, x=\"Class\", y=amount_log)\n",
        "plt.show()"
      ]
    },
    {
      "cell_type": "code",
      "execution_count": 28,
      "metadata": {
        "id": "Sq1tyWzlW71B",
        "colab": {
          "base_uri": "https://localhost:8080/",
          "height": 268
        },
        "outputId": "322a0bbf-5863-46d3-9a44-80695bfcf372"
      },
      "outputs": [
        {
          "output_type": "display_data",
          "data": {
            "text/plain": [
              "<Figure size 432x288 with 30 Axes>"
            ],
            "image/png": "[encoded data removed]"
          },
          "metadata": {
            "needs_background": "light"
          }
        }
      ],
      "source": [
        "df = data.drop('Class', axis=1)\n",
        "ax = df.hist(bins=100)\n",
        "# disable axis labels to avoid the clutter\n",
        "for axis in ax.flatten():\n",
        " axis.set_xticklabels([])\n",
        " axis.set_yticklabels([])\n",
        "# show the plot\n",
        "plt.show()"
      ]
    },
    {
      "cell_type": "code",
      "execution_count": 29,
      "metadata": {
        "id": "_mUsdbhVV8td"
      },
      "outputs": [],
      "source": [
        "### Normalising feature Amount (standard deviation) due to large variance\n",
        "# And dropping amount and time column from the data\n",
        "from sklearn.preprocessing import StandardScaler\n",
        "scaler = StandardScaler()\n",
        "data['scaled_amount'] = scaler.fit_transform(data['Amount'].values.reshape(-1,1))\n",
        "data.drop(['Time', 'Amount'], axis=1, inplace=True)"
      ]
    },
    {
      "cell_type": "code",
      "execution_count": 30,
      "metadata": {
        "id": "5njKXLhrW8fJ"
      },
      "outputs": [],
      "source": [
        "# from the above visualization we can see that fraud transaction does exceed the amount 2000 and it is evenly distributed with time"
      ]
    },
    {
      "cell_type": "code",
      "execution_count": 31,
      "metadata": {
        "id": "4ctpWlcKX8HP"
      },
      "outputs": [],
      "source": [
        "### Preprocessing"
      ]
    },
    {
      "cell_type": "code",
      "execution_count": 32,
      "metadata": {
        "id": "YPXtjxDFauXr"
      },
      "outputs": [],
      "source": [
        "### Handling imbalance of the data"
      ]
    },
    {
      "cell_type": "code",
      "execution_count": 33,
      "metadata": {
        "id": "VtYCcZ-uAGLQ"
      },
      "outputs": [],
      "source": [
        "# As per the data we need to perform oversampling"
      ]
    },
    {
      "cell_type": "code",
      "execution_count": 34,
      "metadata": {
        "id": "fHhNxZmxBW7N"
      },
      "outputs": [],
      "source": [
        "#! pip install table_evaluator"
      ]
    },
    {
      "cell_type": "code",
      "execution_count": 35,
      "metadata": {
        "id": "x0c5I_4cASAF"
      },
      "outputs": [],
      "source": [
        "from collections import Counter\n",
        "from imblearn.pipeline import Pipeline\n",
        "from sklearn.model_selection import cross_val_score\n",
        "from sklearn.model_selection import StratifiedKFold\n",
        "from imblearn.over_sampling import SMOTE, ADASYN\n",
        "from imblearn.under_sampling import RandomUnderSampler\n",
        "from matplotlib import pyplot\n",
        "\n",
        "def sample_data(pipeline, data):\n",
        "  \"\"\" \n",
        "    This function will perform specified sampling and plots scatter plot describing the distribution of each class\n",
        "    inputs: pipeline (oversampling, undersampling)\n",
        "    Returns: sampled data\n",
        "\n",
        "  \"\"\"\n",
        "\n",
        "  X, y = data.drop('Class', axis=1), data['Class']\n",
        "  # summarize class distribution\n",
        "  counter = Counter(y)\n",
        "  print(counter)\n",
        "  # transform the dataset\n",
        "  smote = SMOTE()\n",
        "  X, y = pipeline.fit_resample(X, y)\n",
        "\n",
        "  # summarize the new class distribution\n",
        "  counter = Counter(y)\n",
        "  print(counter)\n",
        "\n",
        "  # scatter plot of examples by class label\n",
        "  for label, _ in counter.items():\n",
        "    row_ix = np.where(y == label)[0]\n",
        "    pyplot.scatter(X.iloc[row_ix, 0], X.iloc[row_ix, 1], label=str(label))\n",
        "  pyplot.legend()\n",
        "  pyplot.show()\n",
        "\n",
        "  return X, y\n",
        "\n",
        "# evalutate sampling\n",
        "from sklearn.model_selection import train_test_split\n",
        "from sklearn.metrics import confusion_matrix, precision_recall_fscore_support\n",
        "def evaluate_sampling(model, X, y, title):\n",
        "  x_train, x_test, y_train, y_test = train_test_split(X,\n",
        "                                                      y,\n",
        "                                                      test_size=0.2,\n",
        "                                                      stratify=y,\n",
        "                                                      random_state=42)\n",
        "  model.fit(x_train, y_train)\n",
        "  y_pred = model.predict(x_test)\n",
        "  plt.figure(figsize=(5,5))\n",
        "  plt.title(title)\n",
        "  sns.heatmap(confusion_matrix(y_test,y_pred), annot=True, fmt=\"d\")\n",
        "  plt.show()\n",
        "  precision, recall, f1_score, _ = precision_recall_fscore_support(y_test\n",
        "                                                                   , y_pred, \n",
        "                                                                   average='macro')\n",
        "  print('Precision: ', precision)\n",
        "  print('Recall: ', recall)\n",
        "  print('F1 score: ', f1_score)"
      ]
    },
    {
      "cell_type": "code",
      "execution_count": 36,
      "metadata": {
        "id": "PC-ywcG91GP1",
        "colab": {
          "base_uri": "https://localhost:8080/",
          "height": 300
        },
        "outputId": "8c213c3a-57c5-4a04-cd20-b6f2f2735c50"
      },
      "outputs": [
        {
          "output_type": "stream",
          "name": "stdout",
          "text": [
            "Counter({0: 284315, 1: 492})\n",
            "Counter({0: 71078, 1: 56863})\n"
          ]
        },
        {
          "output_type": "display_data",
          "data": {
            "text/plain": [
              "<Figure size 432x288 with 1 Axes>"
            ],
            "image/png": "[encoded data removed]"
          },
          "metadata": {
            "needs_background": "light"
          }
        }
      ],
      "source": [
        "# preforming sampling using smote\n",
        "\n",
        "over = SMOTE(sampling_strategy=0.2)\n",
        "under = RandomUnderSampler(sampling_strategy=0.8)\n",
        "\n",
        "\n",
        "steps = [('o', over), ('u', under)]\n",
        "pipeline = Pipeline(steps=steps)\n",
        "\n",
        "X_sampled_smote, y_sampled_smote = sample_data(pipeline, data)"
      ]
    },
    {
      "cell_type": "code",
      "execution_count": 37,
      "metadata": {
        "id": "uJCjpg-7cYcE",
        "colab": {
          "base_uri": "https://localhost:8080/",
          "height": 300
        },
        "outputId": "27c2ee2b-239c-4584-a900-2fc291d629e7"
      },
      "outputs": [
        {
          "output_type": "stream",
          "name": "stdout",
          "text": [
            "Counter({0: 284315, 1: 492})\n",
            "Counter({0: 71066, 1: 56853})\n"
          ]
        },
        {
          "output_type": "display_data",
          "data": {
            "text/plain": [
              "<Figure size 432x288 with 1 Axes>"
            ],
            "image/png": "[encoded data removed]"
          },
          "metadata": {
            "needs_background": "light"
          }
        }
      ],
      "source": [
        "# sampling using ADASYN\n",
        "over = ADASYN(sampling_strategy=0.2)\n",
        "under = RandomUnderSampler(sampling_strategy=0.8)\n",
        "\n",
        "steps = [('o', over), ('u', under)]\n",
        "pipeline = Pipeline(steps=steps)\n",
        "\n",
        "X_sampled_adasyn, y_sampled_adasyn = sample_data(pipeline, data)"
      ]
    },
    {
      "cell_type": "code",
      "execution_count": 38,
      "metadata": {
        "id": "sqKph7ihDVSn",
        "colab": {
          "base_uri": "https://localhost:8080/",
          "height": 300
        },
        "outputId": "32c34393-73d3-4f30-81d0-0e86a85b8d9e"
      },
      "outputs": [
        {
          "output_type": "stream",
          "name": "stdout",
          "text": [
            "Counter({0: 284315, 1: 492})\n",
            "Counter({0: 284315, 1: 284315})\n"
          ]
        },
        {
          "output_type": "display_data",
          "data": {
            "text/plain": [
              "<Figure size 432x288 with 1 Axes>"
            ],
            "image/png": "[encoded data removed]"
          },
          "metadata": {
            "needs_background": "light"
          }
        }
      ],
      "source": [
        "# sampling using RandomOverSampling\n",
        "from imblearn.over_sampling import RandomOverSampler\n",
        "\n",
        "ros = RandomOverSampler()\n",
        "steps = [('ros', ros)]\n",
        "pipeline = Pipeline(steps=steps)\n",
        "\n",
        "X_sampled_ros, y_sampled_ros = sample_data(pipeline, data)"
      ]
    },
    {
      "cell_type": "code",
      "execution_count": 39,
      "metadata": {
        "id": "Ua4NnlKhD63p",
        "colab": {
          "base_uri": "https://localhost:8080/",
          "height": 1000
        },
        "outputId": "3dc50ee9-fffc-4af4-ffe6-ac282b79ca27"
      },
      "outputs": [
        {
          "output_type": "display_data",
          "data": {
            "text/plain": [
              "<Figure size 360x360 with 2 Axes>"
            ],
            "image/png": "[encoded data removed]"
          },
          "metadata": {
            "needs_background": "light"
          }
        },
        {
          "output_type": "stream",
          "name": "stdout",
          "text": [
            "Precision:  0.9993317364083676\n",
            "Recall:  0.9993229529346153\n",
            "F1 score:  0.9993273430876134\n"
          ]
        },
        {
          "output_type": "display_data",
          "data": {
            "text/plain": [
              "<Figure size 360x360 with 2 Axes>"
            ],
            "image/png": "[encoded data removed]"
          },
          "metadata": {
            "needs_background": "light"
          }
        },
        {
          "output_type": "stream",
          "name": "stdout",
          "text": [
            "Precision:  0.9995167808820946\n",
            "Recall:  0.9996130303243509\n",
            "F1 score:  0.9995647138946719\n"
          ]
        },
        {
          "output_type": "display_data",
          "data": {
            "text/plain": [
              "<Figure size 360x360 with 2 Axes>"
            ],
            "image/png": "[encoded data removed]"
          },
          "metadata": {
            "needs_background": "light"
          }
        },
        {
          "output_type": "stream",
          "name": "stdout",
          "text": [
            "Precision:  0.9999648302178767\n",
            "Recall:  0.9999648277438756\n",
            "F1 score:  0.9999648277438322\n"
          ]
        }
      ],
      "source": [
        "# evaluation of sampled data on RandomForest model (without hyperparameter tuning)\n",
        "\n",
        "from sklearn.ensemble import RandomForestClassifier\n",
        "model = RandomForestClassifier()\n",
        "\n",
        "# evaluating smote sampling\n",
        "\n",
        "evaluate_sampling(model, \n",
        "                  X_sampled_smote, \n",
        "                  y_sampled_smote, \n",
        "                  title=\"Confusion matrix for SMOTE sampling\")\n",
        "\n",
        "# evaluating adasyn sampling\n",
        "evaluate_sampling(model, \n",
        "                  X_sampled_adasyn, \n",
        "                  y_sampled_adasyn,\n",
        "                  title=\"Confusion matrix for ADASYN sampling\")\n",
        "\n",
        "# evaluating RandomOverSampling\n",
        "evaluate_sampling(model, \n",
        "                  X_sampled_ros, \n",
        "                  y_sampled_ros,\n",
        "                  title=\"Confusion matrix for RandomOverSampling\")"
      ]
    },
    {
      "cell_type": "markdown",
      "metadata": {
        "id": "9DtyGWVyaote"
      },
      "source": [
        "\n",
        "\n",
        "RandomOverSampling gives the best result compared to others (no false negatives)\n",
        "\n",
        "\n"
      ]
    },
    {
      "cell_type": "code",
      "source": [
        "ros_df = pd.concat([X_sampled_ros, y_sampled_ros], axis=1)"
      ],
      "metadata": {
        "id": "heDINb6ubcet"
      },
      "execution_count": 40,
      "outputs": []
    },
    {
      "cell_type": "code",
      "execution_count": 41,
      "metadata": {
        "id": "qS3tyRZOUxkA",
        "colab": {
          "base_uri": "https://localhost:8080/"
        },
        "outputId": "cfcff80f-e56e-4c81-b13f-f648ac472c29"
      },
      "outputs": [
        {
          "output_type": "execute_result",
          "data": {
            "text/plain": [
              "0    213679\n",
              "1     93957\n",
              "Name: Class, dtype: int64"
            ]
          },
          "metadata": {},
          "execution_count": 41
        }
      ],
      "source": [
        "# Handling outliers using IQR method\n",
        "Q1 = ros_df.quantile(0.25)\n",
        "Q3 = ros_df.quantile(0.75)\n",
        "IQR = Q3 - Q1\n",
        "\n",
        "# Remove outliers based on IQR\n",
        "updated_ros_df = ros_df[~((ros_df < (Q1 - 1.5 * IQR)) | (ros_df > (Q3 + 1.5 * IQR))).any(axis=1)]\n",
        "X_updated_ros, y_updated_ros = updated_ros_df.drop('Class', axis=1), updated_ros_df['Class']\n",
        "updated_ros_df['Class'].value_counts()"
      ]
    },
    {
      "cell_type": "code",
      "source": [
        "\n",
        "pos_data = updated_ros_df[updated_ros_df['Class'] == 1].shape[0]\n",
        "neg_data = updated_ros_df[updated_ros_df['Class'] == 0].shape[0]\n",
        "pos_per = pos_data / len(updated_ros_df) * 100\n",
        "neg_per = neg_data / len(updated_ros_df) * 100\n",
        "print(\"Percentage of Positive samples: {0:.2f}%\".format(pos_per))\n",
        "print(\"Percentage of Negative samples: {0:.2f}%\".format(neg_per))"
      ],
      "metadata": {
        "colab": {
          "base_uri": "https://localhost:8080/"
        },
        "id": "eWrjl4uyWBUu",
        "outputId": "f178c5d9-2ba7-4d77-db5f-26d936976991"
      },
      "execution_count": 110,
      "outputs": [
        {
          "output_type": "stream",
          "name": "stdout",
          "text": [
            "Percentage of Positive samples: 30.54%\n",
            "Percentage of Negative samples: 69.46%\n"
          ]
        }
      ]
    },
    {
      "cell_type": "code",
      "source": [
        "# evalutating sampled data after outlier handling\n",
        "evaluate_sampling(model, \n",
        "                  X_updated_ros, \n",
        "                  y_updated_ros,\n",
        "                  title=\"Confusion matrix for ADASYN sampling after outlier handling\")"
      ],
      "metadata": {
        "colab": {
          "base_uri": "https://localhost:8080/",
          "height": 388
        },
        "id": "avNahMS-cHJy",
        "outputId": "a0141f31-9c02-4127-e88d-9eb837a99244"
      },
      "execution_count": 43,
      "outputs": [
        {
          "output_type": "display_data",
          "data": {
            "text/plain": [
              "<Figure size 360x360 with 2 Axes>"
            ],
            "image/png": "[encoded data removed]"
          },
          "metadata": {
            "needs_background": "light"
          }
        },
        {
          "output_type": "stream",
          "name": "stdout",
          "text": [
            "Precision:  0.9999201915403033\n",
            "Recall:  0.9999649007862224\n",
            "F1 score:  0.9999425423623145\n"
          ]
        }
      ]
    },
    {
      "cell_type": "code",
      "source": [
        "# Taking a sample from the data which represent the entire data (stratified sampling)\n",
        "sample_df = updated_ros_df.sample(frac=0.01)"
      ],
      "metadata": {
        "colab": {
          "base_uri": "https://localhost:8080/",
          "height": 487
        },
        "id": "uzvdvwyRvNtv",
        "outputId": "27e6f991-3119-4b77-b9d3-a46c5e400b3e"
      },
      "execution_count": 119,
      "outputs": [
        {
          "output_type": "execute_result",
          "data": {
            "text/plain": [
              "              V1        V2        V3        V4        V5        V6        V7  \\\n",
              "193449 -0.471063  0.712298  1.245702 -0.105573  0.277658 -1.609680  0.930612   \n",
              "293236  1.036639  0.407227  0.757706  3.161821 -0.568122  0.202181 -0.689804   \n",
              "83072  -0.874575  1.288753  0.465575 -0.596046  0.105244 -1.129826  0.942323   \n",
              "205668 -0.746209  0.989980 -0.166106 -1.118001  2.058635 -1.366195  1.874519   \n",
              "63075   0.660038 -0.806519  1.057173  1.337464 -1.078050  0.443524 -0.492584   \n",
              "...          ...       ...       ...       ...       ...       ...       ...   \n",
              "49724   1.142005 -0.781102 -0.509200 -0.537826 -0.637423 -1.100318  0.262577   \n",
              "222447  1.939387 -1.181825 -1.789337 -1.327464  0.450927  1.209843 -0.627492   \n",
              "355406  1.189784  0.942289  0.082334  3.024050  0.412406 -0.214415  0.053558   \n",
              "24483   1.326721 -0.602821 -0.737049 -0.911349 -0.137445 -0.355026 -0.005092   \n",
              "302763  0.539276  1.554890 -2.066180  3.241617  0.184736  0.028330 -1.515521   \n",
              "\n",
              "              V8        V9       V10  ...       V21       V22       V23  \\\n",
              "193449 -0.279543 -0.518425 -0.615921  ... -0.134706 -0.397228  0.059173   \n",
              "293236  0.411380  0.336769 -0.283731  ... -0.050108  0.123761 -0.132568   \n",
              "83072   0.261274 -0.641879 -0.722446  ... -0.273482 -0.977562  0.088601   \n",
              "205668 -0.504768 -0.812876 -1.151930  ...  0.003226 -0.047730 -0.639801   \n",
              "63075   0.308944  0.561300 -0.093946  ...  0.339559  0.648679 -0.229386   \n",
              "...          ...       ...       ...  ...       ...       ...       ...   \n",
              "49724  -0.458696 -1.261256  0.638735  ... -0.329180 -0.803091 -0.197975   \n",
              "222447  0.333353 -0.641035  0.814447  ...  0.065685 -0.022277  0.253845   \n",
              "355406 -0.110353  0.883798 -0.554224  ... -0.502636 -1.047398 -0.056752   \n",
              "24483  -0.211720 -1.388229  0.862979  ... -0.389354 -0.828973 -0.227043   \n",
              "302763  0.537035 -1.999846 -2.133176  ...  0.371773  0.111955 -0.305225   \n",
              "\n",
              "             V24       V25       V26       V27       V28  scaled_amount  Class  \n",
              "193449  0.941811 -0.448430  0.206070  0.066157  0.149244      -0.349271      0  \n",
              "293236  0.350231  0.507701  0.189621  0.061016  0.063141      -0.350191      1  \n",
              "83072  -0.023692 -0.219310  0.012095  0.142759  0.122671      -0.213696      0  \n",
              "205668  0.506604  1.187279  0.675475 -0.287645 -0.177103      -0.305652      0  \n",
              "63075   0.237469  0.285795 -0.279171  0.038633  0.059979       0.516994      0  \n",
              "...          ...       ...       ...       ...       ...            ...    ...  \n",
              "49724   0.084588  0.442462  1.075614 -0.116161  0.021551       0.333042      0  \n",
              "222447 -0.976378 -0.395958 -0.352002 -0.013460 -0.064092       0.030267      0  \n",
              "355406 -0.340688  0.541235 -0.098300 -0.003041  0.049819      -0.338077      1  \n",
              "24483  -0.795105  0.537814  1.119212 -0.107201 -0.013188      -0.020868      0  \n",
              "302763 -1.053835  0.771175  0.240878  0.418435  0.232170      -0.277186      1  \n",
              "\n",
              "[3076 rows x 30 columns]"
            ],
            "text/html": [
              "\n",
              "  <div id=\"df-bda9c116-6df4-4de0-bcc5-41fc0007b902\">\n",
              "    <div class=\"colab-df-container\">\n",
              "      <div>\n",
              "<style scoped>\n",
              "    .dataframe tbody tr th:only-of-type {\n",
              "        vertical-align: middle;\n",
              "    }\n",
              "\n",
              "    .dataframe tbody tr th {\n",
              "        vertical-align: top;\n",
              "    }\n",
              "\n",
              "    .dataframe thead th {\n",
              "        text-align: right;\n",
              "    }\n",
              "</style>\n",
              "<table border=\"1\" class=\"dataframe\">\n",
              "  <thead>\n",
              "    <tr style=\"text-align: right;\">\n",
              "      <th></th>\n",
              "      <th>V1</th>\n",
              "      <th>V2</th>\n",
              "      <th>V3</th>\n",
              "      <th>V4</th>\n",
              "      <th>V5</th>\n",
              "      <th>V6</th>\n",
              "      <th>V7</th>\n",
              "      <th>V8</th>\n",
              "      <th>V9</th>\n",
              "      <th>V10</th>\n",
              "      <th>...</th>\n",
              "      <th>V21</th>\n",
              "      <th>V22</th>\n",
              "      <th>V23</th>\n",
              "      <th>V24</th>\n",
              "      <th>V25</th>\n",
              "      <th>V26</th>\n",
              "      <th>V27</th>\n",
              "      <th>V28</th>\n",
              "      <th>scaled_amount</th>\n",
              "      <th>Class</th>\n",
              "    </tr>\n",
              "  </thead>\n",
              "  <tbody>\n",
              "    <tr>\n",
              "      <th>193449</th>\n",
              "      <td>-0.471063</td>\n",
              "      <td>0.712298</td>\n",
              "      <td>1.245702</td>\n",
              "      <td>-0.105573</td>\n",
              "      <td>0.277658</td>\n",
              "      <td>-1.609680</td>\n",
              "      <td>0.930612</td>\n",
              "      <td>-0.279543</td>\n",
              "      <td>-0.518425</td>\n",
              "      <td>-0.615921</td>\n",
              "      <td>...</td>\n",
              "      <td>-0.134706</td>\n",
              "      <td>-0.397228</td>\n",
              "      <td>0.059173</td>\n",
              "      <td>0.941811</td>\n",
              "      <td>-0.448430</td>\n",
              "      <td>0.206070</td>\n",
              "      <td>0.066157</td>\n",
              "      <td>0.149244</td>\n",
              "      <td>-0.349271</td>\n",
              "      <td>0</td>\n",
              "    </tr>\n",
              "    <tr>\n",
              "      <th>293236</th>\n",
              "      <td>1.036639</td>\n",
              "      <td>0.407227</td>\n",
              "      <td>0.757706</td>\n",
              "      <td>3.161821</td>\n",
              "      <td>-0.568122</td>\n",
              "      <td>0.202181</td>\n",
              "      <td>-0.689804</td>\n",
              "      <td>0.411380</td>\n",
              "      <td>0.336769</td>\n",
              "      <td>-0.283731</td>\n",
              "      <td>...</td>\n",
              "      <td>-0.050108</td>\n",
              "      <td>0.123761</td>\n",
              "      <td>-0.132568</td>\n",
              "      <td>0.350231</td>\n",
              "      <td>0.507701</td>\n",
              "      <td>0.189621</td>\n",
              "      <td>0.061016</td>\n",
              "      <td>0.063141</td>\n",
              "      <td>-0.350191</td>\n",
              "      <td>1</td>\n",
              "    </tr>\n",
              "    <tr>\n",
              "      <th>83072</th>\n",
              "      <td>-0.874575</td>\n",
              "      <td>1.288753</td>\n",
              "      <td>0.465575</td>\n",
              "      <td>-0.596046</td>\n",
              "      <td>0.105244</td>\n",
              "      <td>-1.129826</td>\n",
              "      <td>0.942323</td>\n",
              "      <td>0.261274</td>\n",
              "      <td>-0.641879</td>\n",
              "      <td>-0.722446</td>\n",
              "      <td>...</td>\n",
              "      <td>-0.273482</td>\n",
              "      <td>-0.977562</td>\n",
              "      <td>0.088601</td>\n",
              "      <td>-0.023692</td>\n",
              "      <td>-0.219310</td>\n",
              "      <td>0.012095</td>\n",
              "      <td>0.142759</td>\n",
              "      <td>0.122671</td>\n",
              "      <td>-0.213696</td>\n",
              "      <td>0</td>\n",
              "    </tr>\n",
              "    <tr>\n",
              "      <th>205668</th>\n",
              "      <td>-0.746209</td>\n",
              "      <td>0.989980</td>\n",
              "      <td>-0.166106</td>\n",
              "      <td>-1.118001</td>\n",
              "      <td>2.058635</td>\n",
              "      <td>-1.366195</td>\n",
              "      <td>1.874519</td>\n",
              "      <td>-0.504768</td>\n",
              "      <td>-0.812876</td>\n",
              "      <td>-1.151930</td>\n",
              "      <td>...</td>\n",
              "      <td>0.003226</td>\n",
              "      <td>-0.047730</td>\n",
              "      <td>-0.639801</td>\n",
              "      <td>0.506604</td>\n",
              "      <td>1.187279</td>\n",
              "      <td>0.675475</td>\n",
              "      <td>-0.287645</td>\n",
              "      <td>-0.177103</td>\n",
              "      <td>-0.305652</td>\n",
              "      <td>0</td>\n",
              "    </tr>\n",
              "    <tr>\n",
              "      <th>63075</th>\n",
              "      <td>0.660038</td>\n",
              "      <td>-0.806519</td>\n",
              "      <td>1.057173</td>\n",
              "      <td>1.337464</td>\n",
              "      <td>-1.078050</td>\n",
              "      <td>0.443524</td>\n",
              "      <td>-0.492584</td>\n",
              "      <td>0.308944</td>\n",
              "      <td>0.561300</td>\n",
              "      <td>-0.093946</td>\n",
              "      <td>...</td>\n",
              "      <td>0.339559</td>\n",
              "      <td>0.648679</td>\n",
              "      <td>-0.229386</td>\n",
              "      <td>0.237469</td>\n",
              "      <td>0.285795</td>\n",
              "      <td>-0.279171</td>\n",
              "      <td>0.038633</td>\n",
              "      <td>0.059979</td>\n",
              "      <td>0.516994</td>\n",
              "      <td>0</td>\n",
              "    </tr>\n",
              "    <tr>\n",
              "      <th>...</th>\n",
              "      <td>...</td>\n",
              "      <td>...</td>\n",
              "      <td>...</td>\n",
              "      <td>...</td>\n",
              "      <td>...</td>\n",
              "      <td>...</td>\n",
              "      <td>...</td>\n",
              "      <td>...</td>\n",
              "      <td>...</td>\n",
              "      <td>...</td>\n",
              "      <td>...</td>\n",
              "      <td>...</td>\n",
              "      <td>...</td>\n",
              "      <td>...</td>\n",
              "      <td>...</td>\n",
              "      <td>...</td>\n",
              "      <td>...</td>\n",
              "      <td>...</td>\n",
              "      <td>...</td>\n",
              "      <td>...</td>\n",
              "      <td>...</td>\n",
              "    </tr>\n",
              "    <tr>\n",
              "      <th>49724</th>\n",
              "      <td>1.142005</td>\n",
              "      <td>-0.781102</td>\n",
              "      <td>-0.509200</td>\n",
              "      <td>-0.537826</td>\n",
              "      <td>-0.637423</td>\n",
              "      <td>-1.100318</td>\n",
              "      <td>0.262577</td>\n",
              "      <td>-0.458696</td>\n",
              "      <td>-1.261256</td>\n",
              "      <td>0.638735</td>\n",
              "      <td>...</td>\n",
              "      <td>-0.329180</td>\n",
              "      <td>-0.803091</td>\n",
              "      <td>-0.197975</td>\n",
              "      <td>0.084588</td>\n",
              "      <td>0.442462</td>\n",
              "      <td>1.075614</td>\n",
              "      <td>-0.116161</td>\n",
              "      <td>0.021551</td>\n",
              "      <td>0.333042</td>\n",
              "      <td>0</td>\n",
              "    </tr>\n",
              "    <tr>\n",
              "      <th>222447</th>\n",
              "      <td>1.939387</td>\n",
              "      <td>-1.181825</td>\n",
              "      <td>-1.789337</td>\n",
              "      <td>-1.327464</td>\n",
              "      <td>0.450927</td>\n",
              "      <td>1.209843</td>\n",
              "      <td>-0.627492</td>\n",
              "      <td>0.333353</td>\n",
              "      <td>-0.641035</td>\n",
              "      <td>0.814447</td>\n",
              "      <td>...</td>\n",
              "      <td>0.065685</td>\n",
              "      <td>-0.022277</td>\n",
              "      <td>0.253845</td>\n",
              "      <td>-0.976378</td>\n",
              "      <td>-0.395958</td>\n",
              "      <td>-0.352002</td>\n",
              "      <td>-0.013460</td>\n",
              "      <td>-0.064092</td>\n",
              "      <td>0.030267</td>\n",
              "      <td>0</td>\n",
              "    </tr>\n",
              "    <tr>\n",
              "      <th>355406</th>\n",
              "      <td>1.189784</td>\n",
              "      <td>0.942289</td>\n",
              "      <td>0.082334</td>\n",
              "      <td>3.024050</td>\n",
              "      <td>0.412406</td>\n",
              "      <td>-0.214415</td>\n",
              "      <td>0.053558</td>\n",
              "      <td>-0.110353</td>\n",
              "      <td>0.883798</td>\n",
              "      <td>-0.554224</td>\n",
              "      <td>...</td>\n",
              "      <td>-0.502636</td>\n",
              "      <td>-1.047398</td>\n",
              "      <td>-0.056752</td>\n",
              "      <td>-0.340688</td>\n",
              "      <td>0.541235</td>\n",
              "      <td>-0.098300</td>\n",
              "      <td>-0.003041</td>\n",
              "      <td>0.049819</td>\n",
              "      <td>-0.338077</td>\n",
              "      <td>1</td>\n",
              "    </tr>\n",
              "    <tr>\n",
              "      <th>24483</th>\n",
              "      <td>1.326721</td>\n",
              "      <td>-0.602821</td>\n",
              "      <td>-0.737049</td>\n",
              "      <td>-0.911349</td>\n",
              "      <td>-0.137445</td>\n",
              "      <td>-0.355026</td>\n",
              "      <td>-0.005092</td>\n",
              "      <td>-0.211720</td>\n",
              "      <td>-1.388229</td>\n",
              "      <td>0.862979</td>\n",
              "      <td>...</td>\n",
              "      <td>-0.389354</td>\n",
              "      <td>-0.828973</td>\n",
              "      <td>-0.227043</td>\n",
              "      <td>-0.795105</td>\n",
              "      <td>0.537814</td>\n",
              "      <td>1.119212</td>\n",
              "      <td>-0.107201</td>\n",
              "      <td>-0.013188</td>\n",
              "      <td>-0.020868</td>\n",
              "      <td>0</td>\n",
              "    </tr>\n",
              "    <tr>\n",
              "      <th>302763</th>\n",
              "      <td>0.539276</td>\n",
              "      <td>1.554890</td>\n",
              "      <td>-2.066180</td>\n",
              "      <td>3.241617</td>\n",
              "      <td>0.184736</td>\n",
              "      <td>0.028330</td>\n",
              "      <td>-1.515521</td>\n",
              "      <td>0.537035</td>\n",
              "      <td>-1.999846</td>\n",
              "      <td>-2.133176</td>\n",
              "      <td>...</td>\n",
              "      <td>0.371773</td>\n",
              "      <td>0.111955</td>\n",
              "      <td>-0.305225</td>\n",
              "      <td>-1.053835</td>\n",
              "      <td>0.771175</td>\n",
              "      <td>0.240878</td>\n",
              "      <td>0.418435</td>\n",
              "      <td>0.232170</td>\n",
              "      <td>-0.277186</td>\n",
              "      <td>1</td>\n",
              "    </tr>\n",
              "  </tbody>\n",
              "</table>\n",
              "<p>3076 rows × 30 columns</p>\n",
              "</div>\n",
              "      <button class=\"colab-df-convert\" onclick=\"convertToInteractive('df-bda9c116-6df4-4de0-bcc5-41fc0007b902')\"\n",
              "              title=\"Convert this dataframe to an interactive table.\"\n",
              "              style=\"display:none;\">\n",
              "        \n",
              "  <svg xmlns=\"http://www.w3.org/2000/svg\" height=\"24px\"viewBox=\"0 0 24 24\"\n",
              "       width=\"24px\">\n",
              "    <path d=\"M0 0h24v24H0V0z\" fill=\"none\"/>\n",
              "    <path d=\"M18.56 5.44l.94 2.06.94-2.06 2.06-.94-2.06-.94-.94-2.06-.94 2.06-2.06.94zm-11 1L8.5 8.5l.94-2.06 2.06-.94-2.06-.94L8.5 2.5l-.94 2.06-2.06.94zm10 10l.94 2.06.94-2.06 2.06-.94-2.06-.94-.94-2.06-.94 2.06-2.06.94z\"/><path d=\"M17.41 7.96l-1.37-1.37c-.4-.4-.92-.59-1.43-.59-.52 0-1.04.2-1.43.59L10.3 9.45l-7.72 7.72c-.78.78-.78 2.05 0 2.83L4 21.41c.39.39.9.59 1.41.59.51 0 1.02-.2 1.41-.59l7.78-7.78 2.81-2.81c.8-.78.8-2.07 0-2.86zM5.41 20L4 18.59l7.72-7.72 1.47 1.35L5.41 20z\"/>\n",
              "  </svg>\n",
              "      </button>\n",
              "      \n",
              "  <style>\n",
              "    .colab-df-container {\n",
              "      display:flex;\n",
              "      flex-wrap:wrap;\n",
              "      gap: 12px;\n",
              "    }\n",
              "\n",
              "    .colab-df-convert {\n",
              "      background-color: #E8F0FE;\n",
              "      border: none;\n",
              "      border-radius: 50%;\n",
              "      cursor: pointer;\n",
              "      display: none;\n",
              "      fill: #1967D2;\n",
              "      height: 32px;\n",
              "      padding: 0 0 0 0;\n",
              "      width: 32px;\n",
              "    }\n",
              "\n",
              "    .colab-df-convert:hover {\n",
              "      background-color: #E2EBFA;\n",
              "      box-shadow: 0px 1px 2px rgba(60, 64, 67, 0.3), 0px 1px 3px 1px rgba(60, 64, 67, 0.15);\n",
              "      fill: #174EA6;\n",
              "    }\n",
              "\n",
              "    [theme=dark] .colab-df-convert {\n",
              "      background-color: #3B4455;\n",
              "      fill: #D2E3FC;\n",
              "    }\n",
              "\n",
              "    [theme=dark] .colab-df-convert:hover {\n",
              "      background-color: #434B5C;\n",
              "      box-shadow: 0px 1px 3px 1px rgba(0, 0, 0, 0.15);\n",
              "      filter: drop-shadow(0px 1px 2px rgba(0, 0, 0, 0.3));\n",
              "      fill: #FFFFFF;\n",
              "    }\n",
              "  </style>\n",
              "\n",
              "      <script>\n",
              "        const buttonEl =\n",
              "          document.querySelector('#df-bda9c116-6df4-4de0-bcc5-41fc0007b902 button.colab-df-convert');\n",
              "        buttonEl.style.display =\n",
              "          google.colab.kernel.accessAllowed ? 'block' : 'none';\n",
              "\n",
              "        async function convertToInteractive(key) {\n",
              "          const element = document.querySelector('#df-bda9c116-6df4-4de0-bcc5-41fc0007b902');\n",
              "          const dataTable =\n",
              "            await google.colab.kernel.invokeFunction('convertToInteractive',\n",
              "                                                     [key], {});\n",
              "          if (!dataTable) return;\n",
              "\n",
              "          const docLinkHtml = 'Like what you see? Visit the ' +\n",
              "            '<a target=\"_blank\" href=https://colab.research.google.com/notebooks/data_table.ipynb>data table notebook</a>'\n",
              "            + ' to learn more about interactive tables.';\n",
              "          element.innerHTML = '';\n",
              "          dataTable['output_type'] = 'display_data';\n",
              "          await google.colab.output.renderOutput(dataTable, element);\n",
              "          const docLink = document.createElement('div');\n",
              "          docLink.innerHTML = docLinkHtml;\n",
              "          element.appendChild(docLink);\n",
              "        }\n",
              "      </script>\n",
              "    </div>\n",
              "  </div>\n",
              "  "
            ]
          },
          "metadata": {},
          "execution_count": 119
        }
      ]
    },
    {
      "cell_type": "code",
      "source": [
        "pos_data = sample_df[sample_df['Class'] == 1].shape[0]\n",
        "neg_data = sample_df[sample_df['Class'] == 0].shape[0]\n",
        "pos_per = pos_data / len(sample_df) * 100\n",
        "neg_per = neg_data / len(sample_df) * 100\n",
        "print(\"Percentage of Positive samples: {0:.2f}%\".format(pos_per))\n",
        "print(\"Percentage of Negative samples: {0:.2f}%\".format(neg_per))"
      ],
      "metadata": {
        "colab": {
          "base_uri": "https://localhost:8080/"
        },
        "id": "XcMMXKCevhrV",
        "outputId": "5866e754-c2fd-4af5-8a6e-28c621bc1e7e"
      },
      "execution_count": 118,
      "outputs": [
        {
          "output_type": "stream",
          "name": "stdout",
          "text": [
            "Percentage of Positive samples: 31.11%\n",
            "Percentage of Negative samples: 68.89%\n"
          ]
        }
      ]
    },
    {
      "cell_type": "code",
      "source": [
        "# sample data represents the entire population"
      ],
      "metadata": {
        "id": "Ri0XvDDeyDYm"
      },
      "execution_count": 112,
      "outputs": []
    },
    {
      "cell_type": "code",
      "source": [
        "#cross validation & Hyper parameter tuning\n",
        "from sklearn.model_selection import GridSearchCV, StratifiedKFold, cross_val_score\n",
        "from sklearn.neighbors import KNeighborsClassifier\n",
        "from sklearn.naive_bayes import GaussianNB\n",
        "from sklearn.ensemble import RandomForestClassifier\n",
        "from sklearn.svm import SVC\n",
        "\n",
        "def get_best_params(X, y):\n",
        "\n",
        "  \"\"\"This function will perform cross validation and hyperparameter tuning\n",
        "     input: X, y\n",
        "     returns: cross validation score and best parameters\n",
        "  \"\"\"\n",
        "  models = {\n",
        "      'knn': {\n",
        "          'model': KNeighborsClassifier(),\n",
        "          'params': {\n",
        "              'n_neighbors': [5,10,15]\n",
        "          }\n",
        "      },\n",
        "      'svc': {\n",
        "          'model': SVC(gamma='auto'),\n",
        "          'params': {\n",
        "              'kernel': ['linear', 'rbf', 'poly'],\n",
        "              'C': [5,10,15]\n",
        "          }\n",
        "      },\n",
        "\n",
        "      'gnb': {\n",
        "          'model': GaussianNB(),\n",
        "          'params': {\n",
        "              'var_smoothing': np.logspace(0,-9, num=100)\n",
        "          }\n",
        "      },\n",
        "\n",
        "      'RF': {\n",
        "          'model': RandomForestClassifier(),\n",
        "          'params': {\n",
        "              'n_estimators': [50,100]\n",
        "          }\n",
        "      }\n",
        "  }\n",
        "  scores = []\n",
        "  for model_name, config in models.items():\n",
        "      cv = StratifiedKFold(n_splits=5, shuffle=True, random_state=41)\n",
        "      gd = GridSearchCV(estimator=config['model'], param_grid=config['params'], n_jobs=1, cv=cv)\n",
        "      gd.fit(X,y)\n",
        "      scores.append({'model': model_name, 'cross_val_score': gd.best_score_, 'best_params': gd.best_params_})\n",
        "  return pd.DataFrame(scores)"
      ],
      "metadata": {
        "id": "_mpEoc9AyXxu"
      },
      "execution_count": 126,
      "outputs": []
    },
    {
      "cell_type": "code",
      "source": [
        "X_sample, y_sample = sample_df.drop('Class', axis=1), sample_df['Class']\n",
        "get_best_params(X_sample, y_sample)"
      ],
      "metadata": {
        "colab": {
          "base_uri": "https://localhost:8080/",
          "height": 175
        },
        "id": "fydzr7dazkVm",
        "outputId": "f2708688-fcc5-4b60-f55e-e2dbd506cb5c"
      },
      "execution_count": 127,
      "outputs": [
        {
          "output_type": "execute_result",
          "data": {
            "text/plain": [
              "  model  cross_val_score                             best_params\n",
              "0   knn         0.973019                      {'n_neighbors': 5}\n",
              "1   svc         0.987323              {'C': 15, 'kernel': 'rbf'}\n",
              "2   gnb         0.941487  {'var_smoothing': 0.03511191734215131}\n",
              "3    RF         0.997076                   {'n_estimators': 100}"
            ],
            "text/html": [
              "\n",
              "  <div id=\"df-f0212ba9-e828-4380-a68f-1ae342ef805b\">\n",
              "    <div class=\"colab-df-container\">\n",
              "      <div>\n",
              "<style scoped>\n",
              "    .dataframe tbody tr th:only-of-type {\n",
              "        vertical-align: middle;\n",
              "    }\n",
              "\n",
              "    .dataframe tbody tr th {\n",
              "        vertical-align: top;\n",
              "    }\n",
              "\n",
              "    .dataframe thead th {\n",
              "        text-align: right;\n",
              "    }\n",
              "</style>\n",
              "<table border=\"1\" class=\"dataframe\">\n",
              "  <thead>\n",
              "    <tr style=\"text-align: right;\">\n",
              "      <th></th>\n",
              "      <th>model</th>\n",
              "      <th>cross_val_score</th>\n",
              "      <th>best_params</th>\n",
              "    </tr>\n",
              "  </thead>\n",
              "  <tbody>\n",
              "    <tr>\n",
              "      <th>0</th>\n",
              "      <td>knn</td>\n",
              "      <td>0.973019</td>\n",
              "      <td>{'n_neighbors': 5}</td>\n",
              "    </tr>\n",
              "    <tr>\n",
              "      <th>1</th>\n",
              "      <td>svc</td>\n",
              "      <td>0.987323</td>\n",
              "      <td>{'C': 15, 'kernel': 'rbf'}</td>\n",
              "    </tr>\n",
              "    <tr>\n",
              "      <th>2</th>\n",
              "      <td>gnb</td>\n",
              "      <td>0.941487</td>\n",
              "      <td>{'var_smoothing': 0.03511191734215131}</td>\n",
              "    </tr>\n",
              "    <tr>\n",
              "      <th>3</th>\n",
              "      <td>RF</td>\n",
              "      <td>0.997076</td>\n",
              "      <td>{'n_estimators': 100}</td>\n",
              "    </tr>\n",
              "  </tbody>\n",
              "</table>\n",
              "</div>\n",
              "      <button class=\"colab-df-convert\" onclick=\"convertToInteractive('df-f0212ba9-e828-4380-a68f-1ae342ef805b')\"\n",
              "              title=\"Convert this dataframe to an interactive table.\"\n",
              "              style=\"display:none;\">\n",
              "        \n",
              "  <svg xmlns=\"http://www.w3.org/2000/svg\" height=\"24px\"viewBox=\"0 0 24 24\"\n",
              "       width=\"24px\">\n",
              "    <path d=\"M0 0h24v24H0V0z\" fill=\"none\"/>\n",
              "    <path d=\"M18.56 5.44l.94 2.06.94-2.06 2.06-.94-2.06-.94-.94-2.06-.94 2.06-2.06.94zm-11 1L8.5 8.5l.94-2.06 2.06-.94-2.06-.94L8.5 2.5l-.94 2.06-2.06.94zm10 10l.94 2.06.94-2.06 2.06-.94-2.06-.94-.94-2.06-.94 2.06-2.06.94z\"/><path d=\"M17.41 7.96l-1.37-1.37c-.4-.4-.92-.59-1.43-.59-.52 0-1.04.2-1.43.59L10.3 9.45l-7.72 7.72c-.78.78-.78 2.05 0 2.83L4 21.41c.39.39.9.59 1.41.59.51 0 1.02-.2 1.41-.59l7.78-7.78 2.81-2.81c.8-.78.8-2.07 0-2.86zM5.41 20L4 18.59l7.72-7.72 1.47 1.35L5.41 20z\"/>\n",
              "  </svg>\n",
              "      </button>\n",
              "      \n",
              "  <style>\n",
              "    .colab-df-container {\n",
              "      display:flex;\n",
              "      flex-wrap:wrap;\n",
              "      gap: 12px;\n",
              "    }\n",
              "\n",
              "    .colab-df-convert {\n",
              "      background-color: #E8F0FE;\n",
              "      border: none;\n",
              "      border-radius: 50%;\n",
              "      cursor: pointer;\n",
              "      display: none;\n",
              "      fill: #1967D2;\n",
              "      height: 32px;\n",
              "      padding: 0 0 0 0;\n",
              "      width: 32px;\n",
              "    }\n",
              "\n",
              "    .colab-df-convert:hover {\n",
              "      background-color: #E2EBFA;\n",
              "      box-shadow: 0px 1px 2px rgba(60, 64, 67, 0.3), 0px 1px 3px 1px rgba(60, 64, 67, 0.15);\n",
              "      fill: #174EA6;\n",
              "    }\n",
              "\n",
              "    [theme=dark] .colab-df-convert {\n",
              "      background-color: #3B4455;\n",
              "      fill: #D2E3FC;\n",
              "    }\n",
              "\n",
              "    [theme=dark] .colab-df-convert:hover {\n",
              "      background-color: #434B5C;\n",
              "      box-shadow: 0px 1px 3px 1px rgba(0, 0, 0, 0.15);\n",
              "      filter: drop-shadow(0px 1px 2px rgba(0, 0, 0, 0.3));\n",
              "      fill: #FFFFFF;\n",
              "    }\n",
              "  </style>\n",
              "\n",
              "      <script>\n",
              "        const buttonEl =\n",
              "          document.querySelector('#df-f0212ba9-e828-4380-a68f-1ae342ef805b button.colab-df-convert');\n",
              "        buttonEl.style.display =\n",
              "          google.colab.kernel.accessAllowed ? 'block' : 'none';\n",
              "\n",
              "        async function convertToInteractive(key) {\n",
              "          const element = document.querySelector('#df-f0212ba9-e828-4380-a68f-1ae342ef805b');\n",
              "          const dataTable =\n",
              "            await google.colab.kernel.invokeFunction('convertToInteractive',\n",
              "                                                     [key], {});\n",
              "          if (!dataTable) return;\n",
              "\n",
              "          const docLinkHtml = 'Like what you see? Visit the ' +\n",
              "            '<a target=\"_blank\" href=https://colab.research.google.com/notebooks/data_table.ipynb>data table notebook</a>'\n",
              "            + ' to learn more about interactive tables.';\n",
              "          element.innerHTML = '';\n",
              "          dataTable['output_type'] = 'display_data';\n",
              "          await google.colab.output.renderOutput(dataTable, element);\n",
              "          const docLink = document.createElement('div');\n",
              "          docLink.innerHTML = docLinkHtml;\n",
              "          element.appendChild(docLink);\n",
              "        }\n",
              "      </script>\n",
              "    </div>\n",
              "  </div>\n",
              "  "
            ]
          },
          "metadata": {},
          "execution_count": 127
        }
      ]
    },
    {
      "cell_type": "code",
      "source": [
        "# RandomForestClassifier show better result"
      ],
      "metadata": {
        "id": "j9m3qcaTz3hO"
      },
      "execution_count": null,
      "outputs": []
    },
    {
      "cell_type": "code",
      "source": [
        ", precision_score\n",
        "\n",
        "# Training RandomForestClassifier with tuned parameters\n",
        "from sklearn.metrics import confusion_matrix, precision_score, recall_score, f1_score\n",
        "X_train, X_test, y_train, y_test = train_test_split(X_updated_ros, \n",
        "                                                    y_updated_ros,\n",
        "                                                    test_size=0.2,\n",
        "                                                    stratify=y_updated_ros,\n",
        "                                                    shuffle=True,\n",
        "                                                    random_state=42)\n",
        "rf_model_ = RandomForestClassifier(n_estimators=100)\n",
        "rf_model_.fit(X_train, y_train)\n",
        "y_pred = rf_model_.predict(X_test)\n",
        "plt.title('Confusion matrix for RandomForestClassifier model')\n",
        "sns.heatmap(confusion_matrix(y_test, y_pred), annot=True, fmt='d')\n",
        "plt.show()\n",
        "precision = precision_score(y_test, y_pred)\n",
        "recall = recall_score(y_test, y_pred)\n",
        "f1score = f1_score(y_test, y_pred)\n",
        "print('Precision: ', precision)\n",
        "print('Recall: ', recall)\n",
        "print('F1 score: ', f1score)"
      ],
      "metadata": {
        "colab": {
          "base_uri": "https://localhost:8080/",
          "height": 333
        },
        "id": "2RLemhzS0P9s",
        "outputId": "34c8b70b-b740-4869-d8e1-27f9e0d48be3"
      },
      "execution_count": 138,
      "outputs": [
        {
          "output_type": "display_data",
          "data": {
            "text/plain": [
              "<Figure size 432x288 with 2 Axes>"
            ],
            "image/png": "[encoded data removed]"
          },
          "metadata": {
            "needs_background": "light"
          }
        },
        {
          "output_type": "stream",
          "name": "stdout",
          "text": [
            "Precision:  0.9998403830806065\n",
            "Recall:  1.0\n",
            "F1 score:  0.9999201851704046\n"
          ]
        }
      ]
    },
    {
      "cell_type": "code",
      "source": [
        "import joblib\n",
        "joblib.dump(rf_model_, 'rf_model.pkl')"
      ],
      "metadata": {
        "colab": {
          "base_uri": "https://localhost:8080/"
        },
        "id": "BmEMkUT70ZwO",
        "outputId": "a8e790e3-ecd5-4d47-dd98-86d41ca5351f"
      },
      "execution_count": 139,
      "outputs": [
        {
          "output_type": "execute_result",
          "data": {
            "text/plain": [
              "['rf_model.pkl']"
            ]
          },
          "metadata": {},
          "execution_count": 139
        }
      ]
    }
  ],
  "metadata": {
    "accelerator": "GPU",
    "colab": {
      "provenance": []
    },
    "gpuClass": "standard",
    "kernelspec": {
      "display_name": "Python 3",
      "name": "python3"
    },
    "language_info": {
      "name": "python"
    }
  },
  "nbformat": 4,
  "nbformat_minor": 0
}